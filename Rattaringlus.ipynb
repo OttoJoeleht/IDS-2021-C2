{
 "cells": [
  {
   "cell_type": "markdown",
   "metadata": {},
   "source": [
    "# Analysing Tartu Smart Bike usage data 2019-2021"
   ]
  },
  {
   "cell_type": "code",
   "execution_count": 1,
   "metadata": {},
   "outputs": [],
   "source": [
    "import matplotlib.pyplot as plt \n",
    "import numpy as np\n",
    "import pandas as pd"
   ]
  },
  {
   "cell_type": "code",
   "execution_count": 2,
   "metadata": {},
   "outputs": [
    {
     "name": "stdout",
     "output_type": "stream",
     "text": [
      "2019:  (742559, 12)\n",
      "2020:  (874032, 12)\n",
      "2021:  (85004, 12)\n"
     ]
    }
   ],
   "source": [
    "data2019 = pd.read_csv(\"2019.csv\", sep=',', header=0)\n",
    "print(\"2019: \",data2019.shape)\n",
    "data2020 = pd.read_csv(\"2020.csv\", sep=',', header=0)\n",
    "print(\"2020: \",data2020.shape)\n",
    "data2021 = pd.read_csv(\"2021.csv\", sep=',', header=0)\n",
    "print(\"2021: \",data2021.shape)"
   ]
  },
  {
   "cell_type": "code",
   "execution_count": 102,
   "metadata": {},
   "outputs": [
    {
     "data": {
      "text/html": [
       "<div>\n",
       "<style scoped>\n",
       "    .dataframe tbody tr th:only-of-type {\n",
       "        vertical-align: middle;\n",
       "    }\n",
       "\n",
       "    .dataframe tbody tr th {\n",
       "        vertical-align: top;\n",
       "    }\n",
       "\n",
       "    .dataframe thead th {\n",
       "        text-align: right;\n",
       "    }\n",
       "</style>\n",
       "<table border=\"1\" class=\"dataframe\">\n",
       "  <thead>\n",
       "    <tr style=\"text-align: right;\">\n",
       "      <th></th>\n",
       "      <th>yearOfBirth</th>\n",
       "      <th>first3IdNumber</th>\n",
       "    </tr>\n",
       "  </thead>\n",
       "  <tbody>\n",
       "  </tbody>\n",
       "</table>\n",
       "</div>"
      ],
      "text/plain": [
       "Empty DataFrame\n",
       "Columns: [yearOfBirth, first3IdNumber]\n",
       "Index: []"
      ]
     },
     "execution_count": 102,
     "metadata": {},
     "output_type": "execute_result"
    }
   ],
   "source": [
    "#data2019 = data2019.drop(columns=['startstationserialnumber','endstationserialnumber'])\n",
    "# Eemalda peatused.\n",
    "data2019 = data2019.drop(data2019[(data2019.startstationname == 'Warehouse') | (data2019.endstationname == 'Warehouse')].index)\n",
    "data2019 = data2019.drop(data2019[(data2019.startstationname == 'Lauluväljak') | (data2019.endstationname == 'Lauluväljak')].index)\n",
    "data2019 = data2019.drop(data2019[(data2019.startstationname == 'SPARK Demo') | (data2019.endstationname == 'SPARK Demo')].index)\n",
    "data2019 = data2019.drop(data2019[(data2019.startstationname == 'Töökoda') | (data2019.endstationname == 'Töökoda')].index)\n",
    "data2019 = data2019.drop(data2019[(data2019.startstationname == \"Tour d'ÖÖ\") | (data2019.endstationname == \"Tour d'ÖÖ\")].index)\n",
    "data2019 = data2019.drop(data2019[(data2019.startstationname == \"-- Määramata --\") | (data2019.endstationname == \"-- Määramata --\")].index)\n",
    "data2019 = data2019.drop(data2019[(data2019.startstationname == \"Metallica parkla\") | (data2019.endstationname == \"Metallica parkla\")].index)\n",
    "data2019 = data2019.drop(data2019[(data2019.startstationname == \"Undetermined\") | (data2019.endstationname == \"Undetermined\")].index)\n",
    "# Eemalda sõidud alla 50m.\n",
    "data2019 = data2019.drop(data2019[data2019['length'] < 0.05].index)\n",
    "# Eemalda sõidud pikkusega 0m.\n",
    "data2019 = data2019.drop(data2019[data2019.length == 0].index)\n",
    "\n",
    "#data2019[['yearOfBirth', 'first3IdNumber']] - vali mitu tulpa korraga\n",
    "\n",
    "data2019['first3IdNumber'] = data2019['first3IdNumber'].fillna(\"NaN\")\n",
    "# Määra sünniaasta andmetüübiks 'sõne'.\n",
    "data2019['yearOfBirth'] = data2019['yearOfBirth'].astype(str)\n",
    "# Eemalda sünniaasta lõpust '.0'.\n",
    "data2019['yearOfBirth'] = data2019['yearOfBirth'].str[:-2]\n",
    "data2019['yearOfBirth'] = data2019['yearOfBirth'].replace('n', '000')\n",
    "\n",
    "\n",
    "\n",
    "# Eemalda ID-kaardi numbrid, mille pikkus on lühem kui 3.\n",
    "data2019 = data2019.drop(data2019[data2019['first3IdNumber'].str.len() != 3].index)\n",
    "# Eemalda ID-kaardi numbrid, mis ei kuulu massiivi kaardi esimese numbri põhjal.\n",
    "synNr = ['N','1','2','3','4','5','6']\n",
    "data2019 = data2019.drop(data2019[~data2019['first3IdNumber'].str[0].isin(synNr)].index)\n",
    "# Eemalda üksik kirje\n",
    "data2019 = data2019.drop(data2019[data2019['first3IdNumber'] == '3ü1'].index)\n",
    "\n",
    "# ID-kaardi põhjal sünniaasta genereerimine\n",
    "data2019.loc[((data2019['first3IdNumber'].str[0] == '1') | (data2019['first3IdNumber'].str[0] == '2')),'yearOfBirth'] = ('18' + data2019['first3IdNumber'].str[1:])\n",
    "data2019.loc[((data2019['first3IdNumber'].str[0] == '3') | (data2019['first3IdNumber'].str[0] == '4')),'yearOfBirth'] = ('19' + data2019['first3IdNumber'].str[1:])\n",
    "data2019.loc[((data2019['first3IdNumber'].str[0] == '5') | (data2019['first3IdNumber'].str[0] == '6')),'yearOfBirth'] = ('20' + data2019['first3IdNumber'].str[1:])\n",
    "\n",
    "# Sünniaasta ja ID-kaardi numbrid ei kattu\n",
    "data2019[['yearOfBirth', 'first3IdNumber']].loc[(data2019['yearOfBirth'].str[2:4] != data2019['first3IdNumber'].str[1:]) & ((data2019['yearOfBirth'].str[:3] != '000') & (data2019['first3IdNumber'] != 'NaN'))]\n",
    "# Sünniaasta puudub, ID-kaart olemas\n",
    "#data2019[['yearOfBirth', 'first3IdNumber']].loc[(data2019['yearOfBirth'].str[:3] == '000') & (data2019['first3IdNumber'] != 'NaN')]\n"
   ]
  },
  {
   "cell_type": "code",
   "execution_count": 103,
   "metadata": {},
   "outputs": [
    {
     "data": {
      "text/plain": [
       "<BarContainer object of 24 artists>"
      ]
     },
     "execution_count": 103,
     "metadata": {},
     "output_type": "execute_result"
    },
    {
     "data": {
      "image/png": "[encoded data removed]",
      "text/plain": [
       "<Figure size 432x288 with 1 Axes>"
      ]
     },
     "metadata": {
      "needs_background": "light"
     },
     "output_type": "display_data"
    }
   ],
   "source": [
    "#data2019 = data2019.drop(columns=['startstationserialnumber','endstationserialnumber'])\n",
    "# Algab 00:00 - 01:00 kuni 23:00 - 00:00, liigutakse 1-tunnise astmega.\n",
    "kellaajadLahti19Dict = {\"01\":0,\"02\":0,\"03\":0,\"04\":0,\"05\":0,\"06\":0,\"07\":0,\"08\":0,\"09\":0,\"10\":0,\"11\":0,\"12\":0,\"13\":0,\"14\":0,\"15\":0,\"16\":0,\"17\":0,\"18\":0,\"19\":0,\"20\":0,\"21\":0,\"22\":0,\"23\":0,\"00\":0}\n",
    "#data2019.unlockedattime.str[:2]\n",
    "\n",
    "for index, row in data2019.iterrows():\n",
    "    #print(row['unlockedattime'][:2])\n",
    "    kellaajadLahti19Dict[row['unlockedattime'][:2]] = kellaajadLahti19Dict[row['unlockedattime'][:2]] + 1\n",
    "keysLahti19 = list(kellaajadLahti19Dict.keys())\n",
    "valuesLahti19 = list(kellaajadLahti19Dict.values())\n",
    "\n",
    "plt.bar(keysLahti19, valuesLahti19)"
   ]
  },
  {
   "cell_type": "code",
   "execution_count": 30,
   "metadata": {},
   "outputs": [
    {
     "data": {
      "text/plain": [
       "{'01': 4765,\n",
       " '02': 819,\n",
       " '03': 278,\n",
       " '04': 366,\n",
       " '05': 3527,\n",
       " '06': 6069,\n",
       " '07': 16579,\n",
       " '08': 25301,\n",
       " '09': 24564,\n",
       " '10': 23204,\n",
       " '11': 26381,\n",
       " '12': 34510,\n",
       " '13': 39649,\n",
       " '14': 43640,\n",
       " '15': 48675,\n",
       " '16': 53879,\n",
       " '17': 56779,\n",
       " '18': 54675,\n",
       " '19': 52534,\n",
       " '20': 49438,\n",
       " '21': 46806,\n",
       " '22': 36027,\n",
       " '23': 25582,\n",
       " '00': 16875}"
      ]
     },
     "execution_count": 30,
     "metadata": {},
     "output_type": "execute_result"
    }
   ],
   "source": [
    "kellaajadKinni19Dict = {\"01\":0,\"02\":0,\"03\":0,\"04\":0,\"05\":0,\"06\":0,\"07\":0,\"08\":0,\"09\":0,\"10\":0,\"11\":0,\"12\":0,\"13\":0,\"14\":0,\"15\":0,\"16\":0,\"17\":0,\"18\":0,\"19\":0,\"20\":0,\"21\":0,\"22\":0,\"23\":0,\"00\":0}\n",
    "#data2019.unlockedattime.str[:2]\n",
    "\n",
    "for index, row in data2019.iterrows():\n",
    "    #print(row['unlockedattime'][:2])\n",
    "    kellaajadKinni19Dict[row['lockedattime'][:2]] = kellaajadKinni19Dict[row['lockedattime'][:2]] + 1\n",
    "keysKinni19 = list(kellaajadKinni19Dict.keys())\n",
    "valuesKinni19 = list(kellaajadKinni19Dict.values())\n",
    "\n",
    "plt.bar(keysKinni19, valuesKinni19, color=\"red\")"
   ]
  },
  {
   "cell_type": "code",
   "execution_count": 39,
   "metadata": {},
   "outputs": [
    {
     "data": {
      "text/plain": [
       "<BarContainer object of 24 artists>"
      ]
     },
     "execution_count": 39,
     "metadata": {},
     "output_type": "execute_result"
    },
    {
     "data": {
      "image/png": "[encoded data removed]",
      "text/plain": [
       "<Figure size 432x288 with 1 Axes>"
      ]
     },
     "metadata": {
      "needs_background": "light"
     },
     "output_type": "display_data"
    }
   ],
   "source": []
  },
  {
   "cell_type": "code",
   "execution_count": 108,
   "metadata": {},
   "outputs": [
    {
     "data": {
      "text/plain": [
       "<BarContainer object of 24 artists>"
      ]
     },
     "execution_count": 108,
     "metadata": {},
     "output_type": "execute_result"
    },
    {
     "data": {
      "image/png": "[encoded data removed]",
      "text/plain": [
       "<Figure size 432x288 with 1 Axes>"
      ]
     },
     "metadata": {
      "needs_background": "light"
     },
     "output_type": "display_data"
    }
   ],
   "source": [
    "kellaajadLahti20Dict = {\"01\":0,\"02\":0,\"03\":0,\"04\":0,\"05\":0,\"06\":0,\"07\":0,\"08\":0,\"09\":0,\"10\":0,\"11\":0,\"12\":0,\"13\":0,\"14\":0,\"15\":0,\"16\":0,\"17\":0,\"18\":0,\"19\":0,\"20\":0,\"21\":0,\"22\":0,\"23\":0,\"00\":0}\n",
    "\n",
    "for index, row in data2020.iterrows():\n",
    "    #print(row['unlockedattime'][:2])\n",
    "    kellaajadLahti20Dict[row['unlockedattime'][:2]] = kellaajadLahti20Dict[row['unlockedattime'][:2]] + 1\n",
    "\n",
    "keysLahti20 = list(kellaajadLahti20Dict.keys())\n",
    "valuesLahti20 = list(kellaajadLahti20Dict.values())\n",
    "\n",
    "plt.bar(keysLahti20, valuesLahti20, color=\"green\")"
   ]
  },
  {
   "cell_type": "code",
   "execution_count": 47,
   "metadata": {},
   "outputs": [
    {
     "data": {
      "text/plain": [
       "<BarContainer object of 24 artists>"
      ]
     },
     "execution_count": 47,
     "metadata": {},
     "output_type": "execute_result"
    },
    {
     "name": "stdout",
     "output_type": "stream",
     "text": [
      "Error in callback <function flush_figures at 0x000002C39BFE1430> (for post_execute):\n"
     ]
    },
    {
     "ename": "KeyboardInterrupt",
     "evalue": "",
     "output_type": "error",
     "traceback": [
      "\u001b[1;31m---------------------------------------------------------------------------\u001b[0m",
      "\u001b[1;31mKeyboardInterrupt\u001b[0m                         Traceback (most recent call last)",
      "\u001b[1;32m~\\anaconda3\\lib\\site-packages\\ipykernel\\pylab\\backend_inline.py\u001b[0m in \u001b[0;36mflush_figures\u001b[1;34m()\u001b[0m\n\u001b[0;32m    119\u001b[0m         \u001b[1;31m# ignore the tracking, just draw and close all figures\u001b[0m\u001b[1;33m\u001b[0m\u001b[1;33m\u001b[0m\u001b[1;33m\u001b[0m\u001b[0m\n\u001b[0;32m    120\u001b[0m         \u001b[1;32mtry\u001b[0m\u001b[1;33m:\u001b[0m\u001b[1;33m\u001b[0m\u001b[1;33m\u001b[0m\u001b[0m\n\u001b[1;32m--> 121\u001b[1;33m             \u001b[1;32mreturn\u001b[0m \u001b[0mshow\u001b[0m\u001b[1;33m(\u001b[0m\u001b[1;32mTrue\u001b[0m\u001b[1;33m)\u001b[0m\u001b[1;33m\u001b[0m\u001b[1;33m\u001b[0m\u001b[0m\n\u001b[0m\u001b[0;32m    122\u001b[0m         \u001b[1;32mexcept\u001b[0m \u001b[0mException\u001b[0m \u001b[1;32mas\u001b[0m \u001b[0me\u001b[0m\u001b[1;33m:\u001b[0m\u001b[1;33m\u001b[0m\u001b[1;33m\u001b[0m\u001b[0m\n\u001b[0;32m    123\u001b[0m             \u001b[1;31m# safely show traceback if in IPython, else raise\u001b[0m\u001b[1;33m\u001b[0m\u001b[1;33m\u001b[0m\u001b[1;33m\u001b[0m\u001b[0m\n",
      "\u001b[1;32m~\\anaconda3\\lib\\site-packages\\ipykernel\\pylab\\backend_inline.py\u001b[0m in \u001b[0;36mshow\u001b[1;34m(close, block)\u001b[0m\n\u001b[0;32m     39\u001b[0m     \u001b[1;32mtry\u001b[0m\u001b[1;33m:\u001b[0m\u001b[1;33m\u001b[0m\u001b[1;33m\u001b[0m\u001b[0m\n\u001b[0;32m     40\u001b[0m         \u001b[1;32mfor\u001b[0m \u001b[0mfigure_manager\u001b[0m \u001b[1;32min\u001b[0m \u001b[0mGcf\u001b[0m\u001b[1;33m.\u001b[0m\u001b[0mget_all_fig_managers\u001b[0m\u001b[1;33m(\u001b[0m\u001b[1;33m)\u001b[0m\u001b[1;33m:\u001b[0m\u001b[1;33m\u001b[0m\u001b[1;33m\u001b[0m\u001b[0m\n\u001b[1;32m---> 41\u001b[1;33m             display(\n\u001b[0m\u001b[0;32m     42\u001b[0m                 \u001b[0mfigure_manager\u001b[0m\u001b[1;33m.\u001b[0m\u001b[0mcanvas\u001b[0m\u001b[1;33m.\u001b[0m\u001b[0mfigure\u001b[0m\u001b[1;33m,\u001b[0m\u001b[1;33m\u001b[0m\u001b[1;33m\u001b[0m\u001b[0m\n\u001b[0;32m     43\u001b[0m                 \u001b[0mmetadata\u001b[0m\u001b[1;33m=\u001b[0m\u001b[0m_fetch_figure_metadata\u001b[0m\u001b[1;33m(\u001b[0m\u001b[0mfigure_manager\u001b[0m\u001b[1;33m.\u001b[0m\u001b[0mcanvas\u001b[0m\u001b[1;33m.\u001b[0m\u001b[0mfigure\u001b[0m\u001b[1;33m)\u001b[0m\u001b[1;33m\u001b[0m\u001b[1;33m\u001b[0m\u001b[0m\n",
      "\u001b[1;32m~\\anaconda3\\lib\\site-packages\\IPython\\core\\display.py\u001b[0m in \u001b[0;36mdisplay\u001b[1;34m(include, exclude, metadata, transient, display_id, *objs, **kwargs)\u001b[0m\n\u001b[0;32m    311\u001b[0m             \u001b[0mpublish_display_data\u001b[0m\u001b[1;33m(\u001b[0m\u001b[0mdata\u001b[0m\u001b[1;33m=\u001b[0m\u001b[0mobj\u001b[0m\u001b[1;33m,\u001b[0m \u001b[0mmetadata\u001b[0m\u001b[1;33m=\u001b[0m\u001b[0mmetadata\u001b[0m\u001b[1;33m,\u001b[0m \u001b[1;33m**\u001b[0m\u001b[0mkwargs\u001b[0m\u001b[1;33m)\u001b[0m\u001b[1;33m\u001b[0m\u001b[1;33m\u001b[0m\u001b[0m\n\u001b[0;32m    312\u001b[0m         \u001b[1;32melse\u001b[0m\u001b[1;33m:\u001b[0m\u001b[1;33m\u001b[0m\u001b[1;33m\u001b[0m\u001b[0m\n\u001b[1;32m--> 313\u001b[1;33m             \u001b[0mformat_dict\u001b[0m\u001b[1;33m,\u001b[0m \u001b[0mmd_dict\u001b[0m \u001b[1;33m=\u001b[0m \u001b[0mformat\u001b[0m\u001b[1;33m(\u001b[0m\u001b[0mobj\u001b[0m\u001b[1;33m,\u001b[0m \u001b[0minclude\u001b[0m\u001b[1;33m=\u001b[0m\u001b[0minclude\u001b[0m\u001b[1;33m,\u001b[0m \u001b[0mexclude\u001b[0m\u001b[1;33m=\u001b[0m\u001b[0mexclude\u001b[0m\u001b[1;33m)\u001b[0m\u001b[1;33m\u001b[0m\u001b[1;33m\u001b[0m\u001b[0m\n\u001b[0m\u001b[0;32m    314\u001b[0m             \u001b[1;32mif\u001b[0m \u001b[1;32mnot\u001b[0m \u001b[0mformat_dict\u001b[0m\u001b[1;33m:\u001b[0m\u001b[1;33m\u001b[0m\u001b[1;33m\u001b[0m\u001b[0m\n\u001b[0;32m    315\u001b[0m                 \u001b[1;31m# nothing to display (e.g. _ipython_display_ took over)\u001b[0m\u001b[1;33m\u001b[0m\u001b[1;33m\u001b[0m\u001b[1;33m\u001b[0m\u001b[0m\n",
      "\u001b[1;32m~\\anaconda3\\lib\\site-packages\\IPython\\core\\formatters.py\u001b[0m in \u001b[0;36mformat\u001b[1;34m(self, obj, include, exclude)\u001b[0m\n\u001b[0;32m    178\u001b[0m             \u001b[0mmd\u001b[0m \u001b[1;33m=\u001b[0m \u001b[1;32mNone\u001b[0m\u001b[1;33m\u001b[0m\u001b[1;33m\u001b[0m\u001b[0m\n\u001b[0;32m    179\u001b[0m             \u001b[1;32mtry\u001b[0m\u001b[1;33m:\u001b[0m\u001b[1;33m\u001b[0m\u001b[1;33m\u001b[0m\u001b[0m\n\u001b[1;32m--> 180\u001b[1;33m                 \u001b[0mdata\u001b[0m \u001b[1;33m=\u001b[0m \u001b[0mformatter\u001b[0m\u001b[1;33m(\u001b[0m\u001b[0mobj\u001b[0m\u001b[1;33m)\u001b[0m\u001b[1;33m\u001b[0m\u001b[1;33m\u001b[0m\u001b[0m\n\u001b[0m\u001b[0;32m    181\u001b[0m             \u001b[1;32mexcept\u001b[0m\u001b[1;33m:\u001b[0m\u001b[1;33m\u001b[0m\u001b[1;33m\u001b[0m\u001b[0m\n\u001b[0;32m    182\u001b[0m                 \u001b[1;31m# FIXME: log the exception\u001b[0m\u001b[1;33m\u001b[0m\u001b[1;33m\u001b[0m\u001b[1;33m\u001b[0m\u001b[0m\n",
      "\u001b[1;32m<decorator-gen-2>\u001b[0m in \u001b[0;36m__call__\u001b[1;34m(self, obj)\u001b[0m\n",
      "\u001b[1;32m~\\anaconda3\\lib\\site-packages\\IPython\\core\\formatters.py\u001b[0m in \u001b[0;36mcatch_format_error\u001b[1;34m(method, self, *args, **kwargs)\u001b[0m\n\u001b[0;32m    222\u001b[0m     \u001b[1;34m\"\"\"show traceback on failed format call\"\"\"\u001b[0m\u001b[1;33m\u001b[0m\u001b[1;33m\u001b[0m\u001b[0m\n\u001b[0;32m    223\u001b[0m     \u001b[1;32mtry\u001b[0m\u001b[1;33m:\u001b[0m\u001b[1;33m\u001b[0m\u001b[1;33m\u001b[0m\u001b[0m\n\u001b[1;32m--> 224\u001b[1;33m         \u001b[0mr\u001b[0m \u001b[1;33m=\u001b[0m \u001b[0mmethod\u001b[0m\u001b[1;33m(\u001b[0m\u001b[0mself\u001b[0m\u001b[1;33m,\u001b[0m \u001b[1;33m*\u001b[0m\u001b[0margs\u001b[0m\u001b[1;33m,\u001b[0m \u001b[1;33m**\u001b[0m\u001b[0mkwargs\u001b[0m\u001b[1;33m)\u001b[0m\u001b[1;33m\u001b[0m\u001b[1;33m\u001b[0m\u001b[0m\n\u001b[0m\u001b[0;32m    225\u001b[0m     \u001b[1;32mexcept\u001b[0m \u001b[0mNotImplementedError\u001b[0m\u001b[1;33m:\u001b[0m\u001b[1;33m\u001b[0m\u001b[1;33m\u001b[0m\u001b[0m\n\u001b[0;32m    226\u001b[0m         \u001b[1;31m# don't warn on NotImplementedErrors\u001b[0m\u001b[1;33m\u001b[0m\u001b[1;33m\u001b[0m\u001b[1;33m\u001b[0m\u001b[0m\n",
      "\u001b[1;32m~\\anaconda3\\lib\\site-packages\\IPython\\core\\formatters.py\u001b[0m in \u001b[0;36m__call__\u001b[1;34m(self, obj)\u001b[0m\n\u001b[0;32m    339\u001b[0m                 \u001b[1;32mpass\u001b[0m\u001b[1;33m\u001b[0m\u001b[1;33m\u001b[0m\u001b[0m\n\u001b[0;32m    340\u001b[0m             \u001b[1;32melse\u001b[0m\u001b[1;33m:\u001b[0m\u001b[1;33m\u001b[0m\u001b[1;33m\u001b[0m\u001b[0m\n\u001b[1;32m--> 341\u001b[1;33m                 \u001b[1;32mreturn\u001b[0m \u001b[0mprinter\u001b[0m\u001b[1;33m(\u001b[0m\u001b[0mobj\u001b[0m\u001b[1;33m)\u001b[0m\u001b[1;33m\u001b[0m\u001b[1;33m\u001b[0m\u001b[0m\n\u001b[0m\u001b[0;32m    342\u001b[0m             \u001b[1;31m# Finally look for special method names\u001b[0m\u001b[1;33m\u001b[0m\u001b[1;33m\u001b[0m\u001b[1;33m\u001b[0m\u001b[0m\n\u001b[0;32m    343\u001b[0m             \u001b[0mmethod\u001b[0m \u001b[1;33m=\u001b[0m \u001b[0mget_real_method\u001b[0m\u001b[1;33m(\u001b[0m\u001b[0mobj\u001b[0m\u001b[1;33m,\u001b[0m \u001b[0mself\u001b[0m\u001b[1;33m.\u001b[0m\u001b[0mprint_method\u001b[0m\u001b[1;33m)\u001b[0m\u001b[1;33m\u001b[0m\u001b[1;33m\u001b[0m\u001b[0m\n",
      "\u001b[1;32m~\\anaconda3\\lib\\site-packages\\IPython\\core\\pylabtools.py\u001b[0m in \u001b[0;36m<lambda>\u001b[1;34m(fig)\u001b[0m\n\u001b[0;32m    246\u001b[0m \u001b[1;33m\u001b[0m\u001b[0m\n\u001b[0;32m    247\u001b[0m     \u001b[1;32mif\u001b[0m \u001b[1;34m'png'\u001b[0m \u001b[1;32min\u001b[0m \u001b[0mformats\u001b[0m\u001b[1;33m:\u001b[0m\u001b[1;33m\u001b[0m\u001b[1;33m\u001b[0m\u001b[0m\n\u001b[1;32m--> 248\u001b[1;33m         \u001b[0mpng_formatter\u001b[0m\u001b[1;33m.\u001b[0m\u001b[0mfor_type\u001b[0m\u001b[1;33m(\u001b[0m\u001b[0mFigure\u001b[0m\u001b[1;33m,\u001b[0m \u001b[1;32mlambda\u001b[0m \u001b[0mfig\u001b[0m\u001b[1;33m:\u001b[0m \u001b[0mprint_figure\u001b[0m\u001b[1;33m(\u001b[0m\u001b[0mfig\u001b[0m\u001b[1;33m,\u001b[0m \u001b[1;34m'png'\u001b[0m\u001b[1;33m,\u001b[0m \u001b[1;33m**\u001b[0m\u001b[0mkwargs\u001b[0m\u001b[1;33m)\u001b[0m\u001b[1;33m)\u001b[0m\u001b[1;33m\u001b[0m\u001b[1;33m\u001b[0m\u001b[0m\n\u001b[0m\u001b[0;32m    249\u001b[0m     \u001b[1;32mif\u001b[0m \u001b[1;34m'retina'\u001b[0m \u001b[1;32min\u001b[0m \u001b[0mformats\u001b[0m \u001b[1;32mor\u001b[0m \u001b[1;34m'png2x'\u001b[0m \u001b[1;32min\u001b[0m \u001b[0mformats\u001b[0m\u001b[1;33m:\u001b[0m\u001b[1;33m\u001b[0m\u001b[1;33m\u001b[0m\u001b[0m\n\u001b[0;32m    250\u001b[0m         \u001b[0mpng_formatter\u001b[0m\u001b[1;33m.\u001b[0m\u001b[0mfor_type\u001b[0m\u001b[1;33m(\u001b[0m\u001b[0mFigure\u001b[0m\u001b[1;33m,\u001b[0m \u001b[1;32mlambda\u001b[0m \u001b[0mfig\u001b[0m\u001b[1;33m:\u001b[0m \u001b[0mretina_figure\u001b[0m\u001b[1;33m(\u001b[0m\u001b[0mfig\u001b[0m\u001b[1;33m,\u001b[0m \u001b[1;33m**\u001b[0m\u001b[0mkwargs\u001b[0m\u001b[1;33m)\u001b[0m\u001b[1;33m)\u001b[0m\u001b[1;33m\u001b[0m\u001b[1;33m\u001b[0m\u001b[0m\n",
      "\u001b[1;32m~\\anaconda3\\lib\\site-packages\\IPython\\core\\pylabtools.py\u001b[0m in \u001b[0;36mprint_figure\u001b[1;34m(fig, fmt, bbox_inches, **kwargs)\u001b[0m\n\u001b[0;32m    130\u001b[0m         \u001b[0mFigureCanvasBase\u001b[0m\u001b[1;33m(\u001b[0m\u001b[0mfig\u001b[0m\u001b[1;33m)\u001b[0m\u001b[1;33m\u001b[0m\u001b[1;33m\u001b[0m\u001b[0m\n\u001b[0;32m    131\u001b[0m \u001b[1;33m\u001b[0m\u001b[0m\n\u001b[1;32m--> 132\u001b[1;33m     \u001b[0mfig\u001b[0m\u001b[1;33m.\u001b[0m\u001b[0mcanvas\u001b[0m\u001b[1;33m.\u001b[0m\u001b[0mprint_figure\u001b[0m\u001b[1;33m(\u001b[0m\u001b[0mbytes_io\u001b[0m\u001b[1;33m,\u001b[0m \u001b[1;33m**\u001b[0m\u001b[0mkw\u001b[0m\u001b[1;33m)\u001b[0m\u001b[1;33m\u001b[0m\u001b[1;33m\u001b[0m\u001b[0m\n\u001b[0m\u001b[0;32m    133\u001b[0m     \u001b[0mdata\u001b[0m \u001b[1;33m=\u001b[0m \u001b[0mbytes_io\u001b[0m\u001b[1;33m.\u001b[0m\u001b[0mgetvalue\u001b[0m\u001b[1;33m(\u001b[0m\u001b[1;33m)\u001b[0m\u001b[1;33m\u001b[0m\u001b[1;33m\u001b[0m\u001b[0m\n\u001b[0;32m    134\u001b[0m     \u001b[1;32mif\u001b[0m \u001b[0mfmt\u001b[0m \u001b[1;33m==\u001b[0m \u001b[1;34m'svg'\u001b[0m\u001b[1;33m:\u001b[0m\u001b[1;33m\u001b[0m\u001b[1;33m\u001b[0m\u001b[0m\n",
      "\u001b[1;32m~\\anaconda3\\lib\\site-packages\\matplotlib\\backend_bases.py\u001b[0m in \u001b[0;36mprint_figure\u001b[1;34m(self, filename, dpi, facecolor, edgecolor, orientation, format, bbox_inches, pad_inches, bbox_extra_artists, backend, **kwargs)\u001b[0m\n\u001b[0;32m   2193\u001b[0m                         \u001b[0mself\u001b[0m\u001b[1;33m.\u001b[0m\u001b[0mfigure\u001b[0m\u001b[1;33m.\u001b[0m\u001b[0mdraw\u001b[0m\u001b[1;33m(\u001b[0m\u001b[0mrenderer\u001b[0m\u001b[1;33m)\u001b[0m\u001b[1;33m\u001b[0m\u001b[1;33m\u001b[0m\u001b[0m\n\u001b[0;32m   2194\u001b[0m \u001b[1;33m\u001b[0m\u001b[0m\n\u001b[1;32m-> 2195\u001b[1;33m                     bbox_inches = self.figure.get_tightbbox(\n\u001b[0m\u001b[0;32m   2196\u001b[0m                         renderer, bbox_extra_artists=bbox_extra_artists)\n\u001b[0;32m   2197\u001b[0m                     \u001b[1;32mif\u001b[0m \u001b[0mpad_inches\u001b[0m \u001b[1;32mis\u001b[0m \u001b[1;32mNone\u001b[0m\u001b[1;33m:\u001b[0m\u001b[1;33m\u001b[0m\u001b[1;33m\u001b[0m\u001b[0m\n",
      "\u001b[1;32m~\\anaconda3\\lib\\site-packages\\matplotlib\\figure.py\u001b[0m in \u001b[0;36mget_tightbbox\u001b[1;34m(self, renderer, bbox_extra_artists)\u001b[0m\n\u001b[0;32m   2504\u001b[0m \u001b[1;33m\u001b[0m\u001b[0m\n\u001b[0;32m   2505\u001b[0m         \u001b[1;32mfor\u001b[0m \u001b[0ma\u001b[0m \u001b[1;32min\u001b[0m \u001b[0martists\u001b[0m\u001b[1;33m:\u001b[0m\u001b[1;33m\u001b[0m\u001b[1;33m\u001b[0m\u001b[0m\n\u001b[1;32m-> 2506\u001b[1;33m             \u001b[0mbbox\u001b[0m \u001b[1;33m=\u001b[0m \u001b[0ma\u001b[0m\u001b[1;33m.\u001b[0m\u001b[0mget_tightbbox\u001b[0m\u001b[1;33m(\u001b[0m\u001b[0mrenderer\u001b[0m\u001b[1;33m)\u001b[0m\u001b[1;33m\u001b[0m\u001b[1;33m\u001b[0m\u001b[0m\n\u001b[0m\u001b[0;32m   2507\u001b[0m             \u001b[1;32mif\u001b[0m \u001b[0mbbox\u001b[0m \u001b[1;32mis\u001b[0m \u001b[1;32mnot\u001b[0m \u001b[1;32mNone\u001b[0m \u001b[1;32mand\u001b[0m \u001b[1;33m(\u001b[0m\u001b[0mbbox\u001b[0m\u001b[1;33m.\u001b[0m\u001b[0mwidth\u001b[0m \u001b[1;33m!=\u001b[0m \u001b[1;36m0\u001b[0m \u001b[1;32mor\u001b[0m \u001b[0mbbox\u001b[0m\u001b[1;33m.\u001b[0m\u001b[0mheight\u001b[0m \u001b[1;33m!=\u001b[0m \u001b[1;36m0\u001b[0m\u001b[1;33m)\u001b[0m\u001b[1;33m:\u001b[0m\u001b[1;33m\u001b[0m\u001b[1;33m\u001b[0m\u001b[0m\n\u001b[0;32m   2508\u001b[0m                 \u001b[0mbb\u001b[0m\u001b[1;33m.\u001b[0m\u001b[0mappend\u001b[0m\u001b[1;33m(\u001b[0m\u001b[0mbbox\u001b[0m\u001b[1;33m)\u001b[0m\u001b[1;33m\u001b[0m\u001b[1;33m\u001b[0m\u001b[0m\n",
      "\u001b[1;32m~\\anaconda3\\lib\\site-packages\\matplotlib\\axes\\_base.py\u001b[0m in \u001b[0;36mget_tightbbox\u001b[1;34m(self, renderer, call_axes_locator, bbox_extra_artists, for_layout_only)\u001b[0m\n\u001b[0;32m   4200\u001b[0m                     \u001b[1;31m# this artist\u001b[0m\u001b[1;33m\u001b[0m\u001b[1;33m\u001b[0m\u001b[1;33m\u001b[0m\u001b[0m\n\u001b[0;32m   4201\u001b[0m                     \u001b[1;32mcontinue\u001b[0m\u001b[1;33m\u001b[0m\u001b[1;33m\u001b[0m\u001b[0m\n\u001b[1;32m-> 4202\u001b[1;33m             \u001b[0mbbox\u001b[0m \u001b[1;33m=\u001b[0m \u001b[0ma\u001b[0m\u001b[1;33m.\u001b[0m\u001b[0mget_tightbbox\u001b[0m\u001b[1;33m(\u001b[0m\u001b[0mrenderer\u001b[0m\u001b[1;33m)\u001b[0m\u001b[1;33m\u001b[0m\u001b[1;33m\u001b[0m\u001b[0m\n\u001b[0m\u001b[0;32m   4203\u001b[0m             if (bbox is not None\n\u001b[0;32m   4204\u001b[0m                     \u001b[1;32mand\u001b[0m \u001b[1;36m0\u001b[0m \u001b[1;33m<\u001b[0m \u001b[0mbbox\u001b[0m\u001b[1;33m.\u001b[0m\u001b[0mwidth\u001b[0m \u001b[1;33m<\u001b[0m \u001b[0mnp\u001b[0m\u001b[1;33m.\u001b[0m\u001b[0minf\u001b[0m\u001b[1;33m\u001b[0m\u001b[1;33m\u001b[0m\u001b[0m\n",
      "\u001b[1;32m~\\anaconda3\\lib\\site-packages\\matplotlib\\artist.py\u001b[0m in \u001b[0;36mget_tightbbox\u001b[1;34m(self, renderer)\u001b[0m\n\u001b[0;32m    276\u001b[0m             \u001b[0mThe\u001b[0m \u001b[0menclosing\u001b[0m \u001b[0mbounding\u001b[0m \u001b[0mbox\u001b[0m \u001b[1;33m(\u001b[0m\u001b[1;32min\u001b[0m \u001b[0mfigure\u001b[0m \u001b[0mpixel\u001b[0m \u001b[0mcoordinates\u001b[0m\u001b[1;33m)\u001b[0m\u001b[1;33m.\u001b[0m\u001b[1;33m\u001b[0m\u001b[1;33m\u001b[0m\u001b[0m\n\u001b[0;32m    277\u001b[0m         \"\"\"\n\u001b[1;32m--> 278\u001b[1;33m         \u001b[0mbbox\u001b[0m \u001b[1;33m=\u001b[0m \u001b[0mself\u001b[0m\u001b[1;33m.\u001b[0m\u001b[0mget_window_extent\u001b[0m\u001b[1;33m(\u001b[0m\u001b[0mrenderer\u001b[0m\u001b[1;33m)\u001b[0m\u001b[1;33m\u001b[0m\u001b[1;33m\u001b[0m\u001b[0m\n\u001b[0m\u001b[0;32m    279\u001b[0m         \u001b[1;32mif\u001b[0m \u001b[0mself\u001b[0m\u001b[1;33m.\u001b[0m\u001b[0mget_clip_on\u001b[0m\u001b[1;33m(\u001b[0m\u001b[1;33m)\u001b[0m\u001b[1;33m:\u001b[0m\u001b[1;33m\u001b[0m\u001b[1;33m\u001b[0m\u001b[0m\n\u001b[0;32m    280\u001b[0m             \u001b[0mclip_box\u001b[0m \u001b[1;33m=\u001b[0m \u001b[0mself\u001b[0m\u001b[1;33m.\u001b[0m\u001b[0mget_clip_box\u001b[0m\u001b[1;33m(\u001b[0m\u001b[1;33m)\u001b[0m\u001b[1;33m\u001b[0m\u001b[1;33m\u001b[0m\u001b[0m\n",
      "\u001b[1;32m~\\anaconda3\\lib\\site-packages\\matplotlib\\spines.py\u001b[0m in \u001b[0;36mget_window_extent\u001b[1;34m(self, renderer)\u001b[0m\n\u001b[0;32m    208\u001b[0m             \u001b[0mbboxes\u001b[0m\u001b[1;33m.\u001b[0m\u001b[0mappend\u001b[0m\u001b[1;33m(\u001b[0m\u001b[0mbb0\u001b[0m\u001b[1;33m)\u001b[0m\u001b[1;33m\u001b[0m\u001b[1;33m\u001b[0m\u001b[0m\n\u001b[0;32m    209\u001b[0m \u001b[1;33m\u001b[0m\u001b[0m\n\u001b[1;32m--> 210\u001b[1;33m         \u001b[1;32mreturn\u001b[0m \u001b[0mmtransforms\u001b[0m\u001b[1;33m.\u001b[0m\u001b[0mBbox\u001b[0m\u001b[1;33m.\u001b[0m\u001b[0munion\u001b[0m\u001b[1;33m(\u001b[0m\u001b[0mbboxes\u001b[0m\u001b[1;33m)\u001b[0m\u001b[1;33m\u001b[0m\u001b[1;33m\u001b[0m\u001b[0m\n\u001b[0m\u001b[0;32m    211\u001b[0m \u001b[1;33m\u001b[0m\u001b[0m\n\u001b[0;32m    212\u001b[0m     \u001b[1;32mdef\u001b[0m \u001b[0mget_path\u001b[0m\u001b[1;33m(\u001b[0m\u001b[0mself\u001b[0m\u001b[1;33m)\u001b[0m\u001b[1;33m:\u001b[0m\u001b[1;33m\u001b[0m\u001b[1;33m\u001b[0m\u001b[0m\n",
      "\u001b[1;32m~\\anaconda3\\lib\\site-packages\\matplotlib\\transforms.py\u001b[0m in \u001b[0;36munion\u001b[1;34m(bboxes)\u001b[0m\n\u001b[0;32m    666\u001b[0m             \u001b[0mx0\u001b[0m \u001b[1;33m=\u001b[0m \u001b[0mnp\u001b[0m\u001b[1;33m.\u001b[0m\u001b[0mmin\u001b[0m\u001b[1;33m(\u001b[0m\u001b[1;33m[\u001b[0m\u001b[0mbbox\u001b[0m\u001b[1;33m.\u001b[0m\u001b[0mxmin\u001b[0m \u001b[1;32mfor\u001b[0m \u001b[0mbbox\u001b[0m \u001b[1;32min\u001b[0m \u001b[0mbboxes\u001b[0m\u001b[1;33m]\u001b[0m\u001b[1;33m)\u001b[0m\u001b[1;33m\u001b[0m\u001b[1;33m\u001b[0m\u001b[0m\n\u001b[0;32m    667\u001b[0m             \u001b[0mx1\u001b[0m \u001b[1;33m=\u001b[0m \u001b[0mnp\u001b[0m\u001b[1;33m.\u001b[0m\u001b[0mmax\u001b[0m\u001b[1;33m(\u001b[0m\u001b[1;33m[\u001b[0m\u001b[0mbbox\u001b[0m\u001b[1;33m.\u001b[0m\u001b[0mxmax\u001b[0m \u001b[1;32mfor\u001b[0m \u001b[0mbbox\u001b[0m \u001b[1;32min\u001b[0m \u001b[0mbboxes\u001b[0m\u001b[1;33m]\u001b[0m\u001b[1;33m)\u001b[0m\u001b[1;33m\u001b[0m\u001b[1;33m\u001b[0m\u001b[0m\n\u001b[1;32m--> 668\u001b[1;33m             \u001b[0my0\u001b[0m \u001b[1;33m=\u001b[0m \u001b[0mnp\u001b[0m\u001b[1;33m.\u001b[0m\u001b[0mmin\u001b[0m\u001b[1;33m(\u001b[0m\u001b[1;33m[\u001b[0m\u001b[0mbbox\u001b[0m\u001b[1;33m.\u001b[0m\u001b[0mymin\u001b[0m \u001b[1;32mfor\u001b[0m \u001b[0mbbox\u001b[0m \u001b[1;32min\u001b[0m \u001b[0mbboxes\u001b[0m\u001b[1;33m]\u001b[0m\u001b[1;33m)\u001b[0m\u001b[1;33m\u001b[0m\u001b[1;33m\u001b[0m\u001b[0m\n\u001b[0m\u001b[0;32m    669\u001b[0m             \u001b[0my1\u001b[0m \u001b[1;33m=\u001b[0m \u001b[0mnp\u001b[0m\u001b[1;33m.\u001b[0m\u001b[0mmax\u001b[0m\u001b[1;33m(\u001b[0m\u001b[1;33m[\u001b[0m\u001b[0mbbox\u001b[0m\u001b[1;33m.\u001b[0m\u001b[0mymax\u001b[0m \u001b[1;32mfor\u001b[0m \u001b[0mbbox\u001b[0m \u001b[1;32min\u001b[0m \u001b[0mbboxes\u001b[0m\u001b[1;33m]\u001b[0m\u001b[1;33m)\u001b[0m\u001b[1;33m\u001b[0m\u001b[1;33m\u001b[0m\u001b[0m\n\u001b[0;32m    670\u001b[0m         \u001b[1;32mreturn\u001b[0m \u001b[0mBbox\u001b[0m\u001b[1;33m(\u001b[0m\u001b[1;33m[\u001b[0m\u001b[1;33m[\u001b[0m\u001b[0mx0\u001b[0m\u001b[1;33m,\u001b[0m \u001b[0my0\u001b[0m\u001b[1;33m]\u001b[0m\u001b[1;33m,\u001b[0m \u001b[1;33m[\u001b[0m\u001b[0mx1\u001b[0m\u001b[1;33m,\u001b[0m \u001b[0my1\u001b[0m\u001b[1;33m]\u001b[0m\u001b[1;33m]\u001b[0m\u001b[1;33m)\u001b[0m\u001b[1;33m\u001b[0m\u001b[1;33m\u001b[0m\u001b[0m\n",
      "\u001b[1;32m~\\anaconda3\\lib\\site-packages\\matplotlib\\transforms.py\u001b[0m in \u001b[0;36m<listcomp>\u001b[1;34m(.0)\u001b[0m\n\u001b[0;32m    666\u001b[0m             \u001b[0mx0\u001b[0m \u001b[1;33m=\u001b[0m \u001b[0mnp\u001b[0m\u001b[1;33m.\u001b[0m\u001b[0mmin\u001b[0m\u001b[1;33m(\u001b[0m\u001b[1;33m[\u001b[0m\u001b[0mbbox\u001b[0m\u001b[1;33m.\u001b[0m\u001b[0mxmin\u001b[0m \u001b[1;32mfor\u001b[0m \u001b[0mbbox\u001b[0m \u001b[1;32min\u001b[0m \u001b[0mbboxes\u001b[0m\u001b[1;33m]\u001b[0m\u001b[1;33m)\u001b[0m\u001b[1;33m\u001b[0m\u001b[1;33m\u001b[0m\u001b[0m\n\u001b[0;32m    667\u001b[0m             \u001b[0mx1\u001b[0m \u001b[1;33m=\u001b[0m \u001b[0mnp\u001b[0m\u001b[1;33m.\u001b[0m\u001b[0mmax\u001b[0m\u001b[1;33m(\u001b[0m\u001b[1;33m[\u001b[0m\u001b[0mbbox\u001b[0m\u001b[1;33m.\u001b[0m\u001b[0mxmax\u001b[0m \u001b[1;32mfor\u001b[0m \u001b[0mbbox\u001b[0m \u001b[1;32min\u001b[0m \u001b[0mbboxes\u001b[0m\u001b[1;33m]\u001b[0m\u001b[1;33m)\u001b[0m\u001b[1;33m\u001b[0m\u001b[1;33m\u001b[0m\u001b[0m\n\u001b[1;32m--> 668\u001b[1;33m             \u001b[0my0\u001b[0m \u001b[1;33m=\u001b[0m \u001b[0mnp\u001b[0m\u001b[1;33m.\u001b[0m\u001b[0mmin\u001b[0m\u001b[1;33m(\u001b[0m\u001b[1;33m[\u001b[0m\u001b[0mbbox\u001b[0m\u001b[1;33m.\u001b[0m\u001b[0mymin\u001b[0m \u001b[1;32mfor\u001b[0m \u001b[0mbbox\u001b[0m \u001b[1;32min\u001b[0m \u001b[0mbboxes\u001b[0m\u001b[1;33m]\u001b[0m\u001b[1;33m)\u001b[0m\u001b[1;33m\u001b[0m\u001b[1;33m\u001b[0m\u001b[0m\n\u001b[0m\u001b[0;32m    669\u001b[0m             \u001b[0my1\u001b[0m \u001b[1;33m=\u001b[0m \u001b[0mnp\u001b[0m\u001b[1;33m.\u001b[0m\u001b[0mmax\u001b[0m\u001b[1;33m(\u001b[0m\u001b[1;33m[\u001b[0m\u001b[0mbbox\u001b[0m\u001b[1;33m.\u001b[0m\u001b[0mymax\u001b[0m \u001b[1;32mfor\u001b[0m \u001b[0mbbox\u001b[0m \u001b[1;32min\u001b[0m \u001b[0mbboxes\u001b[0m\u001b[1;33m]\u001b[0m\u001b[1;33m)\u001b[0m\u001b[1;33m\u001b[0m\u001b[1;33m\u001b[0m\u001b[0m\n\u001b[0;32m    670\u001b[0m         \u001b[1;32mreturn\u001b[0m \u001b[0mBbox\u001b[0m\u001b[1;33m(\u001b[0m\u001b[1;33m[\u001b[0m\u001b[1;33m[\u001b[0m\u001b[0mx0\u001b[0m\u001b[1;33m,\u001b[0m \u001b[0my0\u001b[0m\u001b[1;33m]\u001b[0m\u001b[1;33m,\u001b[0m \u001b[1;33m[\u001b[0m\u001b[0mx1\u001b[0m\u001b[1;33m,\u001b[0m \u001b[0my1\u001b[0m\u001b[1;33m]\u001b[0m\u001b[1;33m]\u001b[0m\u001b[1;33m)\u001b[0m\u001b[1;33m\u001b[0m\u001b[1;33m\u001b[0m\u001b[0m\n",
      "\u001b[1;32m~\\anaconda3\\lib\\site-packages\\matplotlib\\transforms.py\u001b[0m in \u001b[0;36mymin\u001b[1;34m(self)\u001b[0m\n\u001b[0;32m    315\u001b[0m     \u001b[1;32mdef\u001b[0m \u001b[0mymin\u001b[0m\u001b[1;33m(\u001b[0m\u001b[0mself\u001b[0m\u001b[1;33m)\u001b[0m\u001b[1;33m:\u001b[0m\u001b[1;33m\u001b[0m\u001b[1;33m\u001b[0m\u001b[0m\n\u001b[0;32m    316\u001b[0m         \u001b[1;34m\"\"\"The bottom edge of the bounding box.\"\"\"\u001b[0m\u001b[1;33m\u001b[0m\u001b[1;33m\u001b[0m\u001b[0m\n\u001b[1;32m--> 317\u001b[1;33m         \u001b[1;32mreturn\u001b[0m \u001b[0mnp\u001b[0m\u001b[1;33m.\u001b[0m\u001b[0mmin\u001b[0m\u001b[1;33m(\u001b[0m\u001b[0mself\u001b[0m\u001b[1;33m.\u001b[0m\u001b[0mget_points\u001b[0m\u001b[1;33m(\u001b[0m\u001b[1;33m)\u001b[0m\u001b[1;33m[\u001b[0m\u001b[1;33m:\u001b[0m\u001b[1;33m,\u001b[0m \u001b[1;36m1\u001b[0m\u001b[1;33m]\u001b[0m\u001b[1;33m)\u001b[0m\u001b[1;33m\u001b[0m\u001b[1;33m\u001b[0m\u001b[0m\n\u001b[0m\u001b[0;32m    318\u001b[0m \u001b[1;33m\u001b[0m\u001b[0m\n\u001b[0;32m    319\u001b[0m     \u001b[1;33m@\u001b[0m\u001b[0mproperty\u001b[0m\u001b[1;33m\u001b[0m\u001b[1;33m\u001b[0m\u001b[0m\n",
      "\u001b[1;32m<__array_function__ internals>\u001b[0m in \u001b[0;36mamin\u001b[1;34m(*args, **kwargs)\u001b[0m\n",
      "\u001b[1;32m~\\anaconda3\\lib\\site-packages\\numpy\\core\\fromnumeric.py\u001b[0m in \u001b[0;36mamin\u001b[1;34m(a, axis, out, keepdims, initial, where)\u001b[0m\n\u001b[0;32m   2828\u001b[0m     \u001b[1;36m6\u001b[0m\u001b[1;33m\u001b[0m\u001b[1;33m\u001b[0m\u001b[0m\n\u001b[0;32m   2829\u001b[0m     \"\"\"\n\u001b[1;32m-> 2830\u001b[1;33m     return _wrapreduction(a, np.minimum, 'min', axis, None, out,\n\u001b[0m\u001b[0;32m   2831\u001b[0m                           keepdims=keepdims, initial=initial, where=where)\n\u001b[0;32m   2832\u001b[0m \u001b[1;33m\u001b[0m\u001b[0m\n",
      "\u001b[1;32m~\\anaconda3\\lib\\site-packages\\numpy\\core\\fromnumeric.py\u001b[0m in \u001b[0;36m_wrapreduction\u001b[1;34m(obj, ufunc, method, axis, dtype, out, **kwargs)\u001b[0m\n\u001b[0;32m     85\u001b[0m                 \u001b[1;32mreturn\u001b[0m \u001b[0mreduction\u001b[0m\u001b[1;33m(\u001b[0m\u001b[0maxis\u001b[0m\u001b[1;33m=\u001b[0m\u001b[0maxis\u001b[0m\u001b[1;33m,\u001b[0m \u001b[0mout\u001b[0m\u001b[1;33m=\u001b[0m\u001b[0mout\u001b[0m\u001b[1;33m,\u001b[0m \u001b[1;33m**\u001b[0m\u001b[0mpasskwargs\u001b[0m\u001b[1;33m)\u001b[0m\u001b[1;33m\u001b[0m\u001b[1;33m\u001b[0m\u001b[0m\n\u001b[0;32m     86\u001b[0m \u001b[1;33m\u001b[0m\u001b[0m\n\u001b[1;32m---> 87\u001b[1;33m     \u001b[1;32mreturn\u001b[0m \u001b[0mufunc\u001b[0m\u001b[1;33m.\u001b[0m\u001b[0mreduce\u001b[0m\u001b[1;33m(\u001b[0m\u001b[0mobj\u001b[0m\u001b[1;33m,\u001b[0m \u001b[0maxis\u001b[0m\u001b[1;33m,\u001b[0m \u001b[0mdtype\u001b[0m\u001b[1;33m,\u001b[0m \u001b[0mout\u001b[0m\u001b[1;33m,\u001b[0m \u001b[1;33m**\u001b[0m\u001b[0mpasskwargs\u001b[0m\u001b[1;33m)\u001b[0m\u001b[1;33m\u001b[0m\u001b[1;33m\u001b[0m\u001b[0m\n\u001b[0m\u001b[0;32m     88\u001b[0m \u001b[1;33m\u001b[0m\u001b[0m\n\u001b[0;32m     89\u001b[0m \u001b[1;33m\u001b[0m\u001b[0m\n",
      "\u001b[1;31mKeyboardInterrupt\u001b[0m: "
     ]
    }
   ],
   "source": [
    "kellaajadKinni20Dict = {\"01\":0,\"02\":0,\"03\":0,\"04\":0,\"05\":0,\"06\":0,\"07\":0,\"08\":0,\"09\":0,\"10\":0,\"11\":0,\"12\":0,\"13\":0,\"14\":0,\"15\":0,\"16\":0,\"17\":0,\"18\":0,\"19\":0,\"20\":0,\"21\":0,\"22\":0,\"23\":0,\"00\":0}\n",
    "#data2019.unlockedattime.str[:2]\n",
    "\n",
    "for index, row in data2020.iterrows():\n",
    "    #print(row['unlockedattime'][:2])\n",
    "    kellaajadKinni20Dict[row['lockedattime'][:2]] = kellaajadKinni20Dict[row['lockedattime'][:2]] + 1\n",
    "\n",
    "keysKinni20 = kellaajadKinni20Dict.keys()\n",
    "valuesKinni20 = kellaajadKinni20Dict.values()\n",
    "\n",
    "plt.bar(keysKinni20, valuesKinni20, color=\"green\")"
   ]
  },
  {
   "cell_type": "code",
   "execution_count": 110,
   "metadata": {},
   "outputs": [
    {
     "data": {
      "text/plain": [
       "<BarContainer object of 24 artists>"
      ]
     },
     "execution_count": 110,
     "metadata": {},
     "output_type": "execute_result"
    },
    {
     "data": {
      "image/png": "[encoded data removed]",
      "text/plain": [
       "<Figure size 432x288 with 1 Axes>"
      ]
     },
     "metadata": {
      "needs_background": "light"
     },
     "output_type": "display_data"
    }
   ],
   "source": [
    "kellaajadLahti21Dict = {\"01\":0,\"02\":0,\"03\":0,\"04\":0,\"05\":0,\"06\":0,\"07\":0,\"08\":0,\"09\":0,\"10\":0,\"11\":0,\"12\":0,\"13\":0,\"14\":0,\"15\":0,\"16\":0,\"17\":0,\"18\":0,\"19\":0,\"20\":0,\"21\":0,\"22\":0,\"23\":0,\"00\":0}\n",
    "\n",
    "for index, row in data2021.iterrows():\n",
    "    #print(row['unlockedattime'][:2])\n",
    "    kellaajadLahti21Dict[row['unlockedattime'][:2]] = kellaajadLahti21Dict[row['unlockedattime'][:2]] + 1\n",
    "\n",
    "keysLahti21 = list(kellaajadLahti21Dict.keys())\n",
    "valuesLahti21 = list(kellaajadLahti21Dict.values())\n",
    "\n",
    "plt.bar(keysLahti21, valuesLahti21)"
   ]
  },
  {
   "cell_type": "code",
   "execution_count": 48,
   "metadata": {},
   "outputs": [
    {
     "data": {
      "text/plain": [
       "<BarContainer object of 24 artists>"
      ]
     },
     "execution_count": 48,
     "metadata": {},
     "output_type": "execute_result"
    },
    {
     "data": {
      "image/png": "[encoded data removed]",
      "text/plain": [
       "<Figure size 432x288 with 1 Axes>"
      ]
     },
     "metadata": {
      "needs_background": "light"
     },
     "output_type": "display_data"
    }
   ],
   "source": [
    "kellaajadKinni21Dict = {\"01\":0,\"02\":0,\"03\":0,\"04\":0,\"05\":0,\"06\":0,\"07\":0,\"08\":0,\"09\":0,\"10\":0,\"11\":0,\"12\":0,\"13\":0,\"14\":0,\"15\":0,\"16\":0,\"17\":0,\"18\":0,\"19\":0,\"20\":0,\"21\":0,\"22\":0,\"23\":0,\"00\":0}\n",
    "#data2019.unlockedattime.str[:2]\n",
    "\n",
    "for index, row in data2021.iterrows():\n",
    "    #print(row['unlockedattime'][:2])\n",
    "    kellaajadKinni21Dict[row['lockedattime'][:2]] = kellaajadKinni21Dict[row['lockedattime'][:2]] + 1\n",
    "\n",
    "keysKinni21 = kellaajadKinni21Dict.keys()\n",
    "valuesKinni21 = kellaajadKinni21Dict.values()\n",
    "\n",
    "plt.bar(keysKinni21, valuesKinni21, color=\"red\")"
   ]
  },
  {
   "cell_type": "code",
   "execution_count": 111,
   "metadata": {},
   "outputs": [
    {
     "data": {
      "text/plain": [
       "[222,\n",
       " 2,\n",
       " 0,\n",
       " 0,\n",
       " 367,\n",
       " 816,\n",
       " 1931,\n",
       " 2571,\n",
       " 2882,\n",
       " 2820,\n",
       " 3252,\n",
       " 4110,\n",
       " 4637,\n",
       " 5573,\n",
       " 6462,\n",
       " 7219,\n",
       " 7872,\n",
       " 7528,\n",
       " 6664,\n",
       " 5595,\n",
       " 3959,\n",
       " 2390,\n",
       " 1490,\n",
       " 1002]"
      ]
     },
     "execution_count": 111,
     "metadata": {},
     "output_type": "execute_result"
    }
   ],
   "source": [
    "valuesLahti21"
   ]
  },
  {
   "cell_type": "code",
   "execution_count": 115,
   "metadata": {},
   "outputs": [
    {
     "name": "stderr",
     "output_type": "stream",
     "text": [
      "<ipython-input-115-9ffb975b30f6>:11: MatplotlibDeprecationWarning: Adding an axes using the same arguments as a previous axes currently reuses the earlier instance.  In a future version, a new instance will always be created and returned.  Meanwhile, this warning can be suppressed, and the future behavior ensured, by passing a unique label to each axes instance.\n",
      "  ax1 = plt.axes()\n"
     ]
    },
    {
     "data": {
      "image/png": "[encoded data removed]",
      "text/plain": [
       "<Figure size 720x360 with 1 Axes>"
      ]
     },
     "metadata": {
      "needs_background": "light"
     },
     "output_type": "display_data"
    }
   ],
   "source": [
    "yearsWithUsageByHour = {\n",
    "   '2019': [1491,353,123,408,4344,6719,19163,25909,25449,24031,29828,36666,41502,44755,50193,54758,56609,54908,52733,48409,44427,31820,22687,13637],\n",
    "   '2020': [1961,1,0,0,4274,7721,21389,29493,32189,30138,34351,40504,48197,54535,61217,68621,72443,68722,63187,57642,48341,34186,22159,15666],\n",
    "   '2021': [222,2,0,0,367,816,1931,2571,2882,2820,3252,4110,4637,5573,6462,7219,7872,7528,6664,5595,3959,2390,1490,1002],\n",
    "   'Hours': ['01','02','03','04','05','06','07','08','09','10','11','12','13','14','15','16','17','18','19','20','21','22','23','00']\n",
    "}\n",
    "dfYearsWithUsageByHour = pd.DataFrame(yearsWithUsageByHour)\n",
    "ax = dfYearsWithUsageByHour.plot(x='Hours',kind='bar', title=\"Number of rides by hour\", fontsize='large',figsize=(10,5), width=0.8)\n",
    "ax.tick_params(axis='x', rotation=0)\n",
    "\n",
    "ax1 = plt.axes()\n",
    "x_axis = ax1.xaxis\n",
    "x_axis.set_label_text('Weeks')\n",
    "x_axis.label.set_visible(False)\n",
    "ax1.title.set_size(20)"
   ]
  },
  {
   "cell_type": "code",
   "execution_count": 106,
   "metadata": {},
   "outputs": [
    {
     "data": {
      "text/html": [
       "<div>\n",
       "<style scoped>\n",
       "    .dataframe tbody tr th:only-of-type {\n",
       "        vertical-align: middle;\n",
       "    }\n",
       "\n",
       "    .dataframe tbody tr th {\n",
       "        vertical-align: top;\n",
       "    }\n",
       "\n",
       "    .dataframe thead th {\n",
       "        text-align: right;\n",
       "    }\n",
       "</style>\n",
       "<table border=\"1\" class=\"dataframe\">\n",
       "  <thead>\n",
       "    <tr style=\"text-align: right;\">\n",
       "      <th></th>\n",
       "      <th>yearOfBirth</th>\n",
       "      <th>first3IdNumber</th>\n",
       "    </tr>\n",
       "  </thead>\n",
       "  <tbody>\n",
       "  </tbody>\n",
       "</table>\n",
       "</div>"
      ],
      "text/plain": [
       "Empty DataFrame\n",
       "Columns: [yearOfBirth, first3IdNumber]\n",
       "Index: []"
      ]
     },
     "execution_count": 106,
     "metadata": {},
     "output_type": "execute_result"
    }
   ],
   "source": [
    "#data2020 = data2020.drop(columns=['startstationserialnumber','endstationserialnumber'])\n",
    "data2020 = data2020.drop(data2020[(data2020.startstationname == '-- Määramata --') | (data2020.endstationname == '-- Määramata --')].index)\n",
    "data2020 = data2020.drop(data2020[(data2020.startstationname == 'Rahu 8') | (data2020.endstationname == 'Rahu 8')].index)\n",
    "data2020 = data2020.drop(data2020[(data2020.startstationname == 'SPARK Demo') | (data2020.endstationname == 'SPARK Demo')].index)\n",
    "data2020 = data2020.drop(data2020[(data2020.startstationname == 'Töökoda') | (data2020.endstationname == 'Töökoda')].index)\n",
    "data2020 = data2020.drop(data2020[(data2020.startstationname == 'Undetermined') | (data2020.endstationname == 'Undetermined')].index)\n",
    "data2020 = data2020.drop(data2020[(data2020.startstationname == 'Ihaste Päev') | (data2020.endstationname == 'Ihaste Päev')].index)\n",
    "data2020 = data2020.drop(data2020[data2020['length'] < 0.05].index)\n",
    "data2020 = data2020.drop(data2020[data2020.length == 0].index)\n",
    "\n",
    "data2020['first3IdNumber'] = data2020['first3IdNumber'].fillna(\"NaN\")\n",
    "# Määra sünniaasta andmetüübiks 'sõne'.\n",
    "data2020['yearOfBirth'] = data2020['yearOfBirth'].astype(str)\n",
    "# Eemalda sünniaasta lõpust '.0'.\n",
    "data2020['yearOfBirth'] = data2020['yearOfBirth'].str[:-2]\n",
    "data2020['yearOfBirth'] = data2020['yearOfBirth'].replace('n', '000')\n",
    "\n",
    "# Eemalda ID-kaardi numbrid, mille pikkus on lühem kui 3.\n",
    "data2020 = data2020.drop(data2020[data2020['first3IdNumber'].str.len() != 3].index)\n",
    "# Eemalda ID-kaardi numbrid, mis ei kuulu massiivi kaardi esimese numbri põhjal.\n",
    "synNr = ['N','1','2','3','4','5','6']\n",
    "data2020 = data2020.drop(data2020[~data2020['first3IdNumber'].str[0].isin(synNr)].index)\n",
    "\n",
    "data2020.loc[((data2020['first3IdNumber'].str[0] == '1') | (data2020['first3IdNumber'].str[0] == '2')),'yearOfBirth'] = ('18' + data2020['first3IdNumber'].str[1:])\n",
    "data2020.loc[((data2020['first3IdNumber'].str[0] == '3') | (data2020['first3IdNumber'].str[0] == '4')),'yearOfBirth'] = ('19' + data2020['first3IdNumber'].str[1:])\n",
    "data2020.loc[((data2020['first3IdNumber'].str[0] == '5') | (data2020['first3IdNumber'].str[0] == '6')),'yearOfBirth'] = ('20' + data2020['first3IdNumber'].str[1:])\n",
    "\n",
    "# Sünniaasta ja ID-kaardi numbrid ei kattu\n",
    "data2020[['yearOfBirth', 'first3IdNumber']].loc[(data2020['yearOfBirth'].str[2:4] != data2020['first3IdNumber'].str[1:]) & ((data2020['yearOfBirth'].str[:3] != '000') & (data2020['first3IdNumber'] != 'NaN'))]\n",
    "# Sünniaasta puudub, ID-kaart olemas\n",
    "#data2020[['yearOfBirth', 'first3IdNumber']].loc[(data2020['yearOfBirth'].str[:3] == '000') & (data2020['first3IdNumber'] != 'NaN')]\n",
    "\n",
    "#data2020[['yearOfBirth', 'first3IdNumber']]\n",
    "#data2020['first3IdNumber'].unique()"
   ]
  },
  {
   "cell_type": "code",
   "execution_count": 107,
   "metadata": {},
   "outputs": [
    {
     "data": {
      "text/html": [
       "<div>\n",
       "<style scoped>\n",
       "    .dataframe tbody tr th:only-of-type {\n",
       "        vertical-align: middle;\n",
       "    }\n",
       "\n",
       "    .dataframe tbody tr th {\n",
       "        vertical-align: top;\n",
       "    }\n",
       "\n",
       "    .dataframe thead th {\n",
       "        text-align: right;\n",
       "    }\n",
       "</style>\n",
       "<table border=\"1\" class=\"dataframe\">\n",
       "  <thead>\n",
       "    <tr style=\"text-align: right;\">\n",
       "      <th></th>\n",
       "      <th>yearOfBirth</th>\n",
       "      <th>first3IdNumber</th>\n",
       "    </tr>\n",
       "  </thead>\n",
       "  <tbody>\n",
       "  </tbody>\n",
       "</table>\n",
       "</div>"
      ],
      "text/plain": [
       "Empty DataFrame\n",
       "Columns: [yearOfBirth, first3IdNumber]\n",
       "Index: []"
      ]
     },
     "execution_count": 107,
     "metadata": {},
     "output_type": "execute_result"
    }
   ],
   "source": [
    "#data2021 = data2021.drop(columns=['startstationserialnumber','endstationserialnumber'])\n",
    "data2021 = data2021.drop(data2021[(data2021.startstationname == 'SPARK Demo') | (data2021.endstationname == 'SPARK Demo')].index)\n",
    "data2021 = data2021.drop(data2021[(data2021.startstationname == '-- Määramata --') | (data2021.endstationname == '-- Määramata --')].index)\n",
    "data2021 = data2021.drop(data2021[(data2021.startstationname == 'Töökoda') | (data2021.endstationname == 'Töökoda')].index)\n",
    "data2021 = data2021.drop(data2021[(data2021.startstationname == 'Undetermined') | (data2021.endstationname == 'Undetermined')].index)\n",
    "data2021 = data2021.drop(data2021[data2021['length'] < 0.05].index)\n",
    "data2021 = data2021.drop(data2021[data2021.length == 0].index)\n",
    "\n",
    "data2021['first3IdNumber'] = data2021['first3IdNumber'].fillna(\"NaN\")\n",
    "# Määra sünniaasta andmetüübiks 'sõne'.\n",
    "data2021['yearOfBirth'] = data2021['yearOfBirth'].astype(str)\n",
    "# Eemalda sünniaasta lõpust '.0'.\n",
    "data2021['yearOfBirth'] = data2021['yearOfBirth'].str[:-2]\n",
    "data2021['yearOfBirth'] = data2021['yearOfBirth'].replace('n', '000')\n",
    "\n",
    "# Eemalda ID-kaardi numbrid, mille pikkus on lühem kui 3.\n",
    "data2021 = data2021.drop(data2021[data2021['first3IdNumber'].str.len() != 3].index)\n",
    "# Eemalda ID-kaardi numbrid, mis ei kuulu massiivi kaardi esimese numbri põhjal.\n",
    "synNr = ['N','1','2','3','4','5','6']\n",
    "data2021 = data2021.drop(data2021[~data2021['first3IdNumber'].str[0].isin(synNr)].index)\n",
    "\n",
    "data2021.loc[((data2021['first3IdNumber'].str[0] == '1') | (data2021['first3IdNumber'].str[0] == '2')),'yearOfBirth'] = ('18' + data2021['first3IdNumber'].str[1:])\n",
    "data2021.loc[((data2021['first3IdNumber'].str[0] == '3') | (data2021['first3IdNumber'].str[0] == '4')),'yearOfBirth'] = ('19' + data2021['first3IdNumber'].str[1:])\n",
    "data2021.loc[((data2021['first3IdNumber'].str[0] == '5') | (data2021['first3IdNumber'].str[0] == '6')),'yearOfBirth'] = ('20' + data2021['first3IdNumber'].str[1:])\n",
    "\n",
    "# Sünniaasta ja ID-kaardi numbrid ei kattu\n",
    "data2021[['yearOfBirth', 'first3IdNumber']].loc[(data2021['yearOfBirth'].str[2:4] != data2021['first3IdNumber'].str[1:]) & ((data2021['yearOfBirth'].str[:3] != '000') & (data2021['first3IdNumber'] != 'NaN'))]\n",
    "# Sünniaasta puudub, ID-kaart olemas\n",
    "#data2021[['yearOfBirth', 'first3IdNumber']].loc[(data2021['yearOfBirth'].str[:3] == '000') & (data2021['first3IdNumber'] != 'NaN')]\n",
    "\n",
    "#data2021[['yearOfBirth', 'first3IdNumber']]\n",
    "#data2021['first3IdNumber'].unique()\n",
    "\n"
   ]
  },
  {
   "cell_type": "code",
   "execution_count": 70,
   "metadata": {},
   "outputs": [
    {
     "data": {
      "text/plain": [
       "{'0-18': 59885,\n",
       " '19-25': 182819,\n",
       " '26-30': 66626,\n",
       " '31-40': 88138,\n",
       " '41-50': 48809,\n",
       " '51-65': 33234,\n",
       " '66+': 50655}"
      ]
     },
     "execution_count": 70,
     "metadata": {},
     "output_type": "execute_result"
    }
   ],
   "source": [
    "#andmed19end = dict(data2019['endstationname'].value_counts())\n",
    "\n",
    "vanused = {\"0-18\":0,\"19-25\":0,\"26-30\":0,\"31-40\":0,\"41-50\":0,\"51-65\":0,\"66+\":0}\n",
    "mas = {0}\n",
    "for index, row in data2019.iterrows():\n",
    "    vanus = 2021 - int(row['yearOfBirth'])\n",
    "    if(vanus != 2021):\n",
    "        mas.add(vanus)\n",
    "        if (vanus <= 18):\n",
    "            vanused[\"0-18\"] = vanused[\"0-18\"] + 1\n",
    "        elif (18 < vanus <= 25):\n",
    "            vanused[\"19-25\"] = vanused[\"19-25\"] + 1\n",
    "        elif (26 < vanus <= 30):\n",
    "            vanused[\"26-30\"] = vanused[\"26-30\"] + 1\n",
    "        elif (31 < vanus <= 40):\n",
    "            vanused[\"31-40\"] = vanused[\"31-40\"] + 1\n",
    "        elif (41 < vanus <= 50):\n",
    "            vanused[\"41-50\"] = vanused[\"41-50\"] + 1\n",
    "        elif (50 < vanus <= 65):\n",
    "            vanused[\"51-65\"] = vanused[\"51-65\"] + 1\n",
    "        else:\n",
    "            vanused[\"66+\"] = vanused[\"66+\"] + 1\n",
    "    \n",
    "#data2019.loc[data2019['yearOfBirth'] != \"000\"].value_counts()\n",
    "vanused"
   ]
  },
  {
   "cell_type": "code",
   "execution_count": 93,
   "metadata": {},
   "outputs": [
    {
     "data": {
      "text/plain": [
       "array(['000', '1995', '1981', '1982', '1983', '2002', '1976', '2001',\n",
       "       '1999', '1992', '1997', '1990', '1998', '1996', '2000', '1993',\n",
       "       '1988', '1991', '1977', '1994', '1950', '1940', '1975', '1967',\n",
       "       '1971', '1960', '1972', '1961', '1953', '1980', '1978', '2003',\n",
       "       '1969', '1973', '1952', '1979', '1965', '1957', '1948', '1986',\n",
       "       '1984', '1989', '1985', '1946', '1962', '1966', '1954', '1964',\n",
       "       '1956', '1947', '1987', '1970', '1951', '1958', '1968', '1938',\n",
       "       '1963', '1974', '1959', '1937', '1945', '1955', '1949', '1941',\n",
       "       '1942', '1943', '1944', '1936', '1939', '1924', '1928', '1931'],\n",
       "      dtype=object)"
      ]
     },
     "execution_count": 93,
     "metadata": {},
     "output_type": "execute_result"
    }
   ],
   "source": [
    "# Eemalda ebavajalikud sünniaastad, jääb alles vahemik 1921-2003 - 2019. aasta põhjal\n",
    "data2019 = data2019.drop(data2019[((data2019['yearOfBirth'].astype(int) < 1921) | (2003 < data2019['yearOfBirth'].astype(int))) & (data2019['yearOfBirth'] != \"000\")].index)\n",
    "# Testimine\n",
    "data2019['yearOfBirth'].loc[(data2019['yearOfBirth'].astype(int) >= 2000) & (data2019['yearOfBirth'].astype(int) <= 2100) & (data2019['yearOfBirth'] != \"000\")].unique()\n",
    "\n",
    "data2019['yearOfBirth'].unique()"
   ]
  },
  {
   "cell_type": "code",
   "execution_count": 66,
   "metadata": {},
   "outputs": [
    {
     "data": {
      "text/plain": [
       "<BarContainer object of 7 artists>"
      ]
     },
     "execution_count": 66,
     "metadata": {},
     "output_type": "execute_result"
    },
    {
     "data": {
      "image/png": "[encoded data removed]",
      "text/plain": [
       "<Figure size 432x288 with 1 Axes>"
      ]
     },
     "metadata": {
      "needs_background": "light"
     },
     "output_type": "display_data"
    }
   ],
   "source": [
    "keysVanused = vanused.keys()\n",
    "valuesVanused = vanused.values()\n",
    "\n",
    "plt.bar(keysVanused, valuesVanused)"
   ]
  },
  {
   "cell_type": "code",
   "execution_count": null,
   "metadata": {},
   "outputs": [],
   "source": [
    "# Eemaldada ebavajalikud sünniaastad, jääb alles vahemik 1921-2003 - 2019. aasta põhjal\n",
    "data2019 = data2019.drop(data2019[((data2019['yearOfBirth'].astype(int) < 1921) | (2003 < data2019['yearOfBirth'].astype(int))) & (data2019['yearOfBirth'] != \"000\")].index)\n",
    "# Testimine\n",
    "data2019['yearOfBirth'].loc[(data2019['yearOfBirth'].astype(int) >= 2000) & (data2019['yearOfBirth'].astype(int) <= 2100) & (data2019['yearOfBirth'] != \"000\")].unique()\n",
    "\n",
    "vanused = {\"0-18\":0,\"19-25\":0,\"26-30\":0,\"31-40\":0,\"41-50\":0,\"51-65\":0,\"66+\":0}\n",
    "for index, row in data2019.iterrows():\n",
    "    vanus = 2021 - int(row['yearOfBirth'])\n",
    "    if(vanus != 2021):\n",
    "        if (vanus <= 18):\n",
    "            vanused[\"0-18\"] = vanused[\"0-18\"] + 1\n",
    "        elif (18 < vanus <= 25):\n",
    "            vanused[\"19-25\"] = vanused[\"19-25\"] + 1\n",
    "        elif (26 < vanus <= 30):\n",
    "            vanused[\"26-30\"] = vanused[\"26-30\"] + 1\n",
    "        elif (31 < vanus <= 40):\n",
    "            vanused[\"31-40\"] = vanused[\"31-40\"] + 1\n",
    "        elif (41 < vanus <= 50):\n",
    "            vanused[\"41-50\"] = vanused[\"41-50\"] + 1\n",
    "        elif (50 < vanus <= 65):\n",
    "            vanused[\"51-65\"] = vanused[\"51-65\"] + 1\n",
    "        else:\n",
    "            vanused[\"66+\"] = vanused[\"66+\"] + 1\n",
    "\n",
    "keysVanused = vanused.keys()\n",
    "valuesVanused = vanused.values()\n",
    "\n",
    "plt.bar(keysVanused, valuesVanused)"
   ]
  },
  {
   "cell_type": "code",
   "execution_count": 7,
   "metadata": {},
   "outputs": [],
   "source": [
    "# Faili salvestamine\n",
    "\n",
    "data2019.to_csv('data19cha.csv', index=False)\n",
    "data2020.to_csv('data20cha.csv', index=False)\n",
    "data2021.to_csv('data21cha.csv', index=False)"
   ]
  },
  {
   "cell_type": "code",
   "execution_count": 89,
   "metadata": {},
   "outputs": [
    {
     "data": {
      "text/plain": [
       "0       2021-01-01\n",
       "1       2021-01-01\n",
       "2       2021-01-01\n",
       "3       2021-01-01\n",
       "4       2021-01-01\n",
       "           ...    \n",
       "84999   2021-04-30\n",
       "85000   2021-04-30\n",
       "85001   2021-04-30\n",
       "85002   2021-04-30\n",
       "85003   2021-04-30\n",
       "Name: unlockedat, Length: 85004, dtype: datetime64[ns]"
      ]
     },
     "execution_count": 89,
     "metadata": {},
     "output_type": "execute_result"
    }
   ],
   "source": [
    "\n",
    "data2019['unlockedat'] = pd.to_datetime(data2019['unlockedat'])\n",
    "data2019['day_of_week'] = data2019['unlockedat'].dt.day_name()\n",
    "#data2019['day_of_week'].astype(str)\n",
    "data2019['unlockedat']\n",
    "\n",
    "data2020['unlockedat'] = pd.to_datetime(data2020['unlockedat'])\n",
    "data2020['day_of_week'] = data2020['unlockedat'].dt.day_name()\n",
    "#data2019['day_of_week'].astype(str)\n",
    "data2020['unlockedat']\n",
    "\n",
    "data2021['unlockedat'] = pd.to_datetime(data2021['unlockedat'])\n",
    "data2021['day_of_week'] = data2021['unlockedat'].dt.day_name()\n",
    "#data2019['day_of_week'].astype(str)\n",
    "data2021['unlockedat']"
   ]
  },
  {
   "cell_type": "code",
   "execution_count": 85,
   "metadata": {},
   "outputs": [
    {
     "data": {
      "text/plain": [
       "<BarContainer object of 7 artists>"
      ]
     },
     "execution_count": 85,
     "metadata": {},
     "output_type": "execute_result"
    },
    {
     "data": {
      "image/png": "[encoded data removed]",
      "text/plain": [
       "<Figure size 432x288 with 1 Axes>"
      ]
     },
     "metadata": {
      "needs_background": "light"
     },
     "output_type": "display_data"
    }
   ],
   "source": [
    "#2019\n",
    "days19 = {\"Mon\":0,\"Tue\":0,\"Wed\":0,\"Thu\":0,\"Fri\":0,\"Sat\":0,\"Sun\":0}\n",
    "for index, row in data2019.iterrows():\n",
    "    day = row['day_of_week']\n",
    "    if (day == \"Monday\"):\n",
    "        days19[\"Mon\"] = days19[\"Mon\"] + 1\n",
    "    elif (day == \"Tuesday\"):\n",
    "        days19[\"Tue\"] = days19[\"Tue\"] + 1\n",
    "    elif (day == \"Wednesday\"):\n",
    "        days19[\"Wed\"] = days19[\"Wed\"] + 1\n",
    "    elif (day == \"Thursday\"):\n",
    "        days19[\"Thu\"] = days19[\"Thu\"] + 1\n",
    "    elif (day == \"Friday\"):\n",
    "        days19[\"Fri\"] = days19[\"Fri\"] + 1\n",
    "    elif (day == \"Saturday\"):\n",
    "        days19[\"Sat\"] = days19[\"Sat\"] + 1\n",
    "    else:\n",
    "        days19[\"Sun\"] = days19[\"Sun\"] + 1\n",
    "\n",
    "keysDays19 = list(days19.keys())\n",
    "valuesDays19 = list(days19.values())\n",
    "\n",
    "plt.bar(keysDays19, valuesDays19)"
   ]
  },
  {
   "cell_type": "code",
   "execution_count": 88,
   "metadata": {},
   "outputs": [
    {
     "data": {
      "text/plain": [
       "<BarContainer object of 7 artists>"
      ]
     },
     "execution_count": 88,
     "metadata": {},
     "output_type": "execute_result"
    },
    {
     "data": {
      "image/png": "[encoded data removed]",
      "text/plain": [
       "<Figure size 432x288 with 1 Axes>"
      ]
     },
     "metadata": {
      "needs_background": "light"
     },
     "output_type": "display_data"
    }
   ],
   "source": [
    "#2020\n",
    "days20 = {\"Mon\":0,\"Tue\":0,\"Wed\":0,\"Thu\":0,\"Fri\":0,\"Sat\":0,\"Sun\":0}\n",
    "for index, row in data2020.iterrows():\n",
    "    day = row['day_of_week']\n",
    "    if (day == \"Monday\"):\n",
    "        days20[\"Mon\"] = days20[\"Mon\"] + 1\n",
    "    elif (day == \"Tuesday\"):\n",
    "        days20[\"Tue\"] = days20[\"Tue\"] + 1\n",
    "    elif (day == \"Wednesday\"):\n",
    "        days20[\"Wed\"] = days20[\"Wed\"] + 1\n",
    "    elif (day == \"Thursday\"):\n",
    "        days20[\"Thu\"] = days20[\"Thu\"] + 1\n",
    "    elif (day == \"Friday\"):\n",
    "        days20[\"Fri\"] = days20[\"Fri\"] + 1\n",
    "    elif (day == \"Saturday\"):\n",
    "        days20[\"Sat\"] = days20[\"Sat\"] + 1\n",
    "    else:\n",
    "        days20[\"Sun\"] = days20[\"Sun\"] + 1\n",
    "\n",
    "keysDays20 = list(days20.keys())\n",
    "valuesDays20 = list(days20.values())\n",
    "\n",
    "plt.bar(keysDays20, valuesDays20)"
   ]
  },
  {
   "cell_type": "code",
   "execution_count": 90,
   "metadata": {},
   "outputs": [
    {
     "data": {
      "text/plain": [
       "<BarContainer object of 7 artists>"
      ]
     },
     "execution_count": 90,
     "metadata": {},
     "output_type": "execute_result"
    },
    {
     "data": {
      "image/png": "[encoded data removed]",
      "text/plain": [
       "<Figure size 432x288 with 1 Axes>"
      ]
     },
     "metadata": {
      "needs_background": "light"
     },
     "output_type": "display_data"
    }
   ],
   "source": [
    "#2021\n",
    "days21 = {\"Mon\":0,\"Tue\":0,\"Wed\":0,\"Thu\":0,\"Fri\":0,\"Sat\":0,\"Sun\":0}\n",
    "for index, row in data2021.iterrows():\n",
    "    day = row['day_of_week']\n",
    "    if (day == \"Monday\"):\n",
    "        days21[\"Mon\"] = days21[\"Mon\"] + 1\n",
    "    elif (day == \"Tuesday\"):\n",
    "        days21[\"Tue\"] = days21[\"Tue\"] + 1\n",
    "    elif (day == \"Wednesday\"):\n",
    "        days21[\"Wed\"] = days21[\"Wed\"] + 1\n",
    "    elif (day == \"Thursday\"):\n",
    "        days21[\"Thu\"] = days21[\"Thu\"] + 1\n",
    "    elif (day == \"Friday\"):\n",
    "        days21[\"Fri\"] = days21[\"Fri\"] + 1\n",
    "    elif (day == \"Saturday\"):\n",
    "        days21[\"Sat\"] = days21[\"Sat\"] + 1\n",
    "    else:\n",
    "        days21[\"Sun\"] = days21[\"Sun\"] + 1\n",
    "\n",
    "keysDays21 = list(days21.keys())\n",
    "valuesDays21 = list(days21.values())\n",
    "\n",
    "plt.bar(keysDays21, valuesDays21)"
   ]
  },
  {
   "cell_type": "code",
   "execution_count": 93,
   "metadata": {},
   "outputs": [
    {
     "data": {
      "text/plain": [
       "[12725, 12465, 14253, 14408, 12981, 8574, 9598]"
      ]
     },
     "execution_count": 93,
     "metadata": {},
     "output_type": "execute_result"
    }
   ],
   "source": [
    "valuesDays21"
   ]
  },
  {
   "cell_type": "code",
   "execution_count": 100,
   "metadata": {},
   "outputs": [
    {
     "name": "stderr",
     "output_type": "stream",
     "text": [
      "<ipython-input-100-dfc90cc2f179>:11: MatplotlibDeprecationWarning: Adding an axes using the same arguments as a previous axes currently reuses the earlier instance.  In a future version, a new instance will always be created and returned.  Meanwhile, this warning can be suppressed, and the future behavior ensured, by passing a unique label to each axes instance.\n",
      "  ax1 = plt.axes()\n"
     ]
    },
    {
     "data": {
      "image/png": "[encoded data removed]",
      "text/plain": [
       "<Figure size 576x288 with 1 Axes>"
      ]
     },
     "metadata": {
      "needs_background": "light"
     },
     "output_type": "display_data"
    }
   ],
   "source": [
    "yearsWithUsagePerWeek = {\n",
    "   '2019': [116362, 111474, 113768, 110847, 105489, 92326, 92293],\n",
    "   '2020': [135261, 132092, 139774, 129400, 135836, 101164, 100505],\n",
    "   '2021': [12725, 12465, 14253, 14408, 12981, 8574, 9598],\n",
    "   'Weeks': ['Mon','Tue','Wed','Thu','Fri','Sat','Sun']\n",
    "}\n",
    "dfYearsWithUsagePerWeek = pd.DataFrame(yearsWithUsagePerWeek)\n",
    "ax = dfYearsWithUsagePerWeek.plot(x='Weeks',kind='bar', title=\"Number of rides by weekday\", fontsize='large',figsize=(8,4), width=0.8)\n",
    "ax.tick_params(axis='x', rotation=0)\n",
    "\n",
    "ax1 = plt.axes()\n",
    "x_axis = ax1.xaxis\n",
    "x_axis.set_label_text('Weeks')\n",
    "x_axis.label.set_visible(False)\n",
    "ax1.title.set_size(20)"
   ]
  },
  {
   "cell_type": "code",
   "execution_count": 36,
   "metadata": {},
   "outputs": [
    {
     "data": {
      "text/plain": [
       "Text(0.5, 1.0, 'Number of rides by month in 2019')"
      ]
     },
     "execution_count": 36,
     "metadata": {},
     "output_type": "execute_result"
    },
    {
     "data": {
      "image/png": "[encoded data removed]",
      "text/plain": [
       "<Figure size 432x288 with 1 Axes>"
      ]
     },
     "metadata": {
      "needs_background": "light"
     },
     "output_type": "display_data"
    }
   ],
   "source": [
    "data2019['unlockedat'] = data2019['unlockedat'].astype(str)\n",
    "months19 = {\"Jan\":0,\"Feb\":0,\"Mar\":0,\"Apr\":0,\"May\":0,\"Jun\":0,\"Jul\":0,\"Aug\":0,\"Sep\":0,\"Oct\":0,\"Nov\":0,\"Det\":0}\n",
    "for index, row in data2019.iterrows():\n",
    "    month = row['unlockedat'][5:7]\n",
    "    if (month == \"06\"):\n",
    "        months[\"Jun\"] = months[\"Jun\"] + 1\n",
    "    elif (month == \"07\"):\n",
    "        months[\"Jul\"] = months[\"Jul\"] + 1\n",
    "    elif (month == \"08\"):\n",
    "        months[\"Aug\"] = months[\"Aug\"] + 1\n",
    "    elif (month == \"09\"):\n",
    "        months[\"Sep\"] = months[\"Sep\"] + 1\n",
    "    elif (month == \"10\"):\n",
    "        months[\"Oct\"] = months[\"Oct\"] + 1\n",
    "    elif (month == \"11\"):\n",
    "        months[\"Nov\"] = months[\"Nov\"] + 1\n",
    "    else:\n",
    "        months[\"Det\"] = months[\"Det\"] + 1\n",
    "        \n",
    "keysMonths19 = list(months.keys())\n",
    "valuesMonths19 = list(months.values())\n",
    "\n",
    "plt.bar(keysMonths19,valuesMonths19)\n",
    "plt.title(\"Number of rides by month in 2019\")"
   ]
  },
  {
   "cell_type": "code",
   "execution_count": 37,
   "metadata": {},
   "outputs": [
    {
     "data": {
      "text/plain": [
       "Text(0.5, 1.0, 'Number of rides by month in 2020')"
      ]
     },
     "execution_count": 37,
     "metadata": {},
     "output_type": "execute_result"
    },
    {
     "data": {
      "image/png": "[encoded data removed]",
      "text/plain": [
       "<Figure size 432x288 with 1 Axes>"
      ]
     },
     "metadata": {
      "needs_background": "light"
     },
     "output_type": "display_data"
    }
   ],
   "source": [
    "data2020['unlockedat'] = data2020['unlockedat'].astype(str)\n",
    "months20 = {\"Jan\":0,\"Feb\":0,\"Mar\":0,\"Apr\":0,\"May\":0,\"Jun\":0,\"Jul\":0,\"Aug\":0,\"Sep\":0,\"Oct\":0,\"Nov\":0,\"Det\":0}\n",
    "for index, row in data2020.iterrows():\n",
    "    month = row['unlockedat'][5:7]\n",
    "    if (month == \"01\"):\n",
    "        months[\"Jan\"] = months[\"Jan\"] + 1\n",
    "    elif (month == \"02\"):\n",
    "        months[\"Feb\"] = months[\"Feb\"] + 1\n",
    "    elif (month == \"03\"):\n",
    "        months[\"Mar\"] = months[\"Mar\"] + 1\n",
    "    elif (month == \"04\"):\n",
    "        months[\"Apr\"] = months[\"Apr\"] + 1\n",
    "    elif (month == \"05\"):\n",
    "        months[\"May\"] = months[\"May\"] + 1\n",
    "    elif (month == \"06\"):\n",
    "        months[\"Jun\"] = months[\"Jun\"] + 1\n",
    "    elif (month == \"07\"):\n",
    "        months[\"Jul\"] = months[\"Jul\"] + 1\n",
    "    elif (month == \"08\"):\n",
    "        months[\"Aug\"] = months[\"Aug\"] + 1\n",
    "    elif (month == \"09\"):\n",
    "        months[\"Sep\"] = months[\"Sep\"] + 1\n",
    "    elif (month == \"10\"):\n",
    "        months[\"Oct\"] = months[\"Oct\"] + 1\n",
    "    elif (month == \"11\"):\n",
    "        months[\"Nov\"] = months[\"Nov\"] + 1\n",
    "    else:\n",
    "        months[\"Det\"] = months[\"Det\"] + 1\n",
    "        \n",
    "keysMonths20 = list(months.keys())\n",
    "valuesMonths20 = list(months.values())\n",
    "\n",
    "plt.bar(keysMonths20,valuesMonths20)\n",
    "plt.title(\"Number of rides by month in 2020\")"
   ]
  },
  {
   "cell_type": "code",
   "execution_count": 38,
   "metadata": {},
   "outputs": [
    {
     "data": {
      "text/plain": [
       "Text(0.5, 1.0, 'Number of rides by month in 2021')"
      ]
     },
     "execution_count": 38,
     "metadata": {},
     "output_type": "execute_result"
    },
    {
     "data": {
      "image/png": "[encoded data removed]",
      "text/plain": [
       "<Figure size 432x288 with 1 Axes>"
      ]
     },
     "metadata": {
      "needs_background": "light"
     },
     "output_type": "display_data"
    }
   ],
   "source": [
    "data2021['unlockedat'] = data2021['unlockedat'].astype(str)\n",
    "months = {\"Jan\":0,\"Feb\":0,\"Mar\":0,\"Apr\":0,\"May\":0,\"Jun\":0,\"Jul\":0,\"Aug\":0,\"Sep\":0,\"Oct\":0,\"Nov\":0,\"Det\":0}\n",
    "for index, row in data2021.iterrows():\n",
    "    month = row['unlockedat'][5:7]\n",
    "    if (month == \"01\"):\n",
    "        months[\"Jan\"] = months[\"Jan\"] + 1\n",
    "    elif (month == \"02\"):\n",
    "        months[\"Feb\"] = months[\"Feb\"] + 1\n",
    "    elif (month == \"03\"):\n",
    "        months[\"Mar\"] = months[\"Mar\"] + 1\n",
    "    else:\n",
    "        months[\"Apr\"] = months[\"Apr\"] + 1\n",
    "        \n",
    "keysMonths21 = list(months.keys())\n",
    "valuesMonths21 = list(months.values())\n",
    "\n",
    "plt.bar(keysMonths21,valuesMonths21)\n",
    "plt.title(\"Number of rides by month in 2021\")\n",
    "\n"
   ]
  },
  {
   "cell_type": "code",
   "execution_count": 84,
   "metadata": {},
   "outputs": [
    {
     "name": "stderr",
     "output_type": "stream",
     "text": [
      "<ipython-input-84-488eb06464da>:12: MatplotlibDeprecationWarning: Adding an axes using the same arguments as a previous axes currently reuses the earlier instance.  In a future version, a new instance will always be created and returned.  Meanwhile, this warning can be suppressed, and the future behavior ensured, by passing a unique label to each axes instance.\n",
      "  ax1 = plt.axes()\n"
     ]
    },
    {
     "data": {
      "image/png": "[encoded data removed]",
      "text/plain": [
       "<Figure size 576x288 with 1 Axes>"
      ]
     },
     "metadata": {
      "needs_background": "light"
     },
     "output_type": "display_data"
    }
   ],
   "source": [
    "yearsWithUsagePerMonth = {\n",
    "   '2019': [0, 0, 0, 0, 0, 191009, 140510, 149241, 112570, 80214, 47123, 21892],\n",
    "   '2020': [17742,14497,15198,15379,94042,133988,125716,134145,131254,106032,64043,21996],\n",
    "   '2021': [6582, 5006, 10065, 63351, 0, 0, 0, 0, 0, 0, 0, 0]\n",
    "}\n",
    "dfYearsWithUsagePerMonth = pd.DataFrame(yearsWithUsagePerMonth)\n",
    "months = ['Jan','Feb','Mar','Apr','May','Jun','Jul','Aug','Sep','Oct','Nov','Det']\n",
    "dfYearsWithUsagePerMonth['Months'] = months\n",
    "ax = dfYearsWithUsagePerMonth.plot(x='Months',kind='bar', title=\"Number of rides by month\", fontsize='x-large',figsize=(8,4),width=1.25)\n",
    "ax.tick_params(axis='x', rotation=0)\n",
    "\n",
    "ax1 = plt.axes()\n",
    "x_axis = ax1.xaxis\n",
    "x_axis.set_label_text('Months')\n",
    "x_axis.label.set_visible(False)\n",
    "ax1.title.set_size(20)"
   ]
  },
  {
   "cell_type": "code",
   "execution_count": null,
   "metadata": {},
   "outputs": [],
   "source": []
  }
 ],
 "metadata": {
  "kernelspec": {
   "display_name": "Python 3",
   "language": "python",
   "name": "python3"
  },
  "language_info": {
   "codemirror_mode": {
    "name": "ipython",
    "version": 3
   },
   "file_extension": ".py",
   "mimetype": "text/x-python",
   "name": "python",
   "nbconvert_exporter": "python",
   "pygments_lexer": "ipython3",
   "version": "3.8.5"
  }
 },
 "nbformat": 4,
 "nbformat_minor": 4
}
