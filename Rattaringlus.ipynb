{
 "cells": [
  {
   "cell_type": "markdown",
   "metadata": {},
   "source": [
    "# Analysing Tartu Smart Bike usage data 2019-2021"
   ]
  },
  {
   "cell_type": "code",
   "execution_count": 3,
   "metadata": {},
   "outputs": [],
   "source": [
    "import matplotlib.pyplot as plt \n",
    "import numpy as np\n",
    "import pandas as pd"
   ]
  },
  {
   "cell_type": "code",
   "execution_count": 4,
   "metadata": {},
   "outputs": [
    {
     "name": "stdout",
     "output_type": "stream",
     "text": [
      "2019:  (742559, 12)\n",
      "2020:  (874032, 12)\n",
      "2021:  (85004, 12)\n"
     ]
    }
   ],
   "source": [
    "data2019 = pd.read_csv(\"2019.csv\", sep=',', header=0)\n",
    "print(\"2019: \",data2019.shape)\n",
    "data2020 = pd.read_csv(\"2020.csv\", sep=',', header=0)\n",
    "print(\"2020: \",data2020.shape)\n",
    "data2021 = pd.read_csv(\"2021.csv\", sep=',', header=0)\n",
    "print(\"2021: \",data2021.shape)"
   ]
  },
  {
   "cell_type": "code",
   "execution_count": 5,
   "metadata": {},
   "outputs": [
    {
     "data": {
      "text/html": [
       "<div>\n",
       "<style scoped>\n",
       "    .dataframe tbody tr th:only-of-type {\n",
       "        vertical-align: middle;\n",
       "    }\n",
       "\n",
       "    .dataframe tbody tr th {\n",
       "        vertical-align: top;\n",
       "    }\n",
       "\n",
       "    .dataframe thead th {\n",
       "        text-align: right;\n",
       "    }\n",
       "</style>\n",
       "<table border=\"1\" class=\"dataframe\">\n",
       "  <thead>\n",
       "    <tr style=\"text-align: right;\">\n",
       "      <th></th>\n",
       "      <th>yearOfBirth</th>\n",
       "      <th>first3IdNumber</th>\n",
       "    </tr>\n",
       "  </thead>\n",
       "  <tbody>\n",
       "  </tbody>\n",
       "</table>\n",
       "</div>"
      ],
      "text/plain": [
       "Empty DataFrame\n",
       "Columns: [yearOfBirth, first3IdNumber]\n",
       "Index: []"
      ]
     },
     "execution_count": 5,
     "metadata": {},
     "output_type": "execute_result"
    }
   ],
   "source": [
    "#data2019 = data2019.drop(columns=['startstationserialnumber','endstationserialnumber'])\n",
    "# Eemalda peatused.\n",
    "data2019 = data2019.drop(data2019[(data2019.startstationname == 'Warehouse') | (data2019.endstationname == 'Warehouse')].index)\n",
    "data2019 = data2019.drop(data2019[(data2019.startstationname == 'Lauluväljak') | (data2019.endstationname == 'Lauluväljak')].index)\n",
    "data2019 = data2019.drop(data2019[(data2019.startstationname == 'SPARK Demo') | (data2019.endstationname == 'SPARK Demo')].index)\n",
    "data2019 = data2019.drop(data2019[(data2019.startstationname == 'Töökoda') | (data2019.endstationname == 'Töökoda')].index)\n",
    "data2019 = data2019.drop(data2019[(data2019.startstationname == \"Tour d'ÖÖ\") | (data2019.endstationname == \"Tour d'ÖÖ\")].index)\n",
    "data2019 = data2019.drop(data2019[(data2019.startstationname == \"-- Määramata --\") | (data2019.endstationname == \"-- Määramata --\")].index)\n",
    "data2019 = data2019.drop(data2019[(data2019.startstationname == \"Metallica parkla\") | (data2019.endstationname == \"Metallica parkla\")].index)\n",
    "data2019 = data2019.drop(data2019[(data2019.startstationname == \"Undetermined\") | (data2019.endstationname == \"Undetermined\")].index)\n",
    "# Eemalda sõidud alla 50m.\n",
    "data2019 = data2019.drop(data2019[data2019['length'] < 0.05].index)\n",
    "# Eemalda sõidud pikkusega 0m.\n",
    "data2019 = data2019.drop(data2019[data2019.length == 0].index)\n",
    "\n",
    "#data2019[['yearOfBirth', 'first3IdNumber']] - vali mitu tulpa korraga\n",
    "\n",
    "data2019['first3IdNumber'] = data2019['first3IdNumber'].fillna(\"NaN\")\n",
    "# Määra sünniaasta andmetüübiks 'sõne'.\n",
    "data2019['yearOfBirth'] = data2019['yearOfBirth'].astype(str)\n",
    "# Eemalda sünniaasta lõpust '.0'.\n",
    "data2019['yearOfBirth'] = data2019['yearOfBirth'].str[:-2]\n",
    "data2019['yearOfBirth'] = data2019['yearOfBirth'].replace('n', '000')\n",
    "\n",
    "\n",
    "\n",
    "# Eemalda ID-kaardi numbrid, mille pikkus on lühem kui 3.\n",
    "data2019 = data2019.drop(data2019[data2019['first3IdNumber'].str.len() != 3].index)\n",
    "# Eemalda ID-kaardi numbrid, mis ei kuulu massiivi kaardi esimese numbri põhjal.\n",
    "synNr = ['N','1','2','3','4','5','6']\n",
    "data2019 = data2019.drop(data2019[~data2019['first3IdNumber'].str[0].isin(synNr)].index)\n",
    "# Eemalda üksik kirje\n",
    "data2019 = data2019.drop(data2019[data2019['first3IdNumber'] == '3ü1'].index)\n",
    "\n",
    "# ID-kaardi põhjal sünniaasta genereerimine\n",
    "data2019.loc[((data2019['first3IdNumber'].str[0] == '1') | (data2019['first3IdNumber'].str[0] == '2')),'yearOfBirth'] = ('18' + data2019['first3IdNumber'].str[1:])\n",
    "data2019.loc[((data2019['first3IdNumber'].str[0] == '3') | (data2019['first3IdNumber'].str[0] == '4')),'yearOfBirth'] = ('19' + data2019['first3IdNumber'].str[1:])\n",
    "data2019.loc[((data2019['first3IdNumber'].str[0] == '5') | (data2019['first3IdNumber'].str[0] == '6')),'yearOfBirth'] = ('20' + data2019['first3IdNumber'].str[1:])\n",
    "\n",
    "# Sünniaasta ja ID-kaardi numbrid ei kattu\n",
    "data2019[['yearOfBirth', 'first3IdNumber']].loc[(data2019['yearOfBirth'].str[2:4] != data2019['first3IdNumber'].str[1:]) & ((data2019['yearOfBirth'].str[:3] != '000') & (data2019['first3IdNumber'] != 'NaN'))]\n",
    "# Sünniaasta puudub, ID-kaart olemas\n",
    "#data2019[['yearOfBirth', 'first3IdNumber']].loc[(data2019['yearOfBirth'].str[:3] == '000') & (data2019['first3IdNumber'] != 'NaN')]\n"
   ]
  },
  {
   "cell_type": "code",
   "execution_count": 24,
   "metadata": {},
   "outputs": [
    {
     "data": {
      "text/plain": [
       "{'01': 1491,\n",
       " '02': 353,\n",
       " '03': 123,\n",
       " '04': 408,\n",
       " '05': 4344,\n",
       " '06': 6719,\n",
       " '07': 19163,\n",
       " '08': 25909,\n",
       " '09': 25449,\n",
       " '10': 24031,\n",
       " '11': 29828,\n",
       " '12': 36666,\n",
       " '13': 41502,\n",
       " '14': 44755,\n",
       " '15': 50193,\n",
       " '16': 54758,\n",
       " '17': 56609,\n",
       " '18': 54908,\n",
       " '19': 52733,\n",
       " '20': 48409,\n",
       " '21': 44427,\n",
       " '22': 31820,\n",
       " '23': 22687,\n",
       " '00': 13637}"
      ]
     },
     "execution_count": 24,
     "metadata": {},
     "output_type": "execute_result"
    }
   ],
   "source": [
    "#data2019 = data2019.drop(columns=['startstationserialnumber','endstationserialnumber'])\n",
    "# Algab 00:00 - 01:00 kuni 23:00 - 00:00, liigutakse 1-tunnise astmega.\n",
    "kellaajadLahti19Dict = {\"01\":0,\"02\":0,\"03\":0,\"04\":0,\"05\":0,\"06\":0,\"07\":0,\"08\":0,\"09\":0,\"10\":0,\"11\":0,\"12\":0,\"13\":0,\"14\":0,\"15\":0,\"16\":0,\"17\":0,\"18\":0,\"19\":0,\"20\":0,\"21\":0,\"22\":0,\"23\":0,\"00\":0}\n",
    "#data2019.unlockedattime.str[:2]\n",
    "\n",
    "for index, row in data2019.iterrows():\n",
    "    #print(row['unlockedattime'][:2])\n",
    "    kellaajadLahti19Dict[row['unlockedattime'][:2]] = kellaajadLahti19Dict[row['unlockedattime'][:2]] + 1\n",
    "keysLahti19 = kellaajadLahti19Dict.keys()\n",
    "valuesLahti19 = kellaajadLahti19Dict.values()\n",
    "\n",
    "plt.bar(keysLahti19, valuesLahti19)"
   ]
  },
  {
   "cell_type": "code",
   "execution_count": 30,
   "metadata": {},
   "outputs": [
    {
     "data": {
      "text/plain": [
       "{'01': 4765,\n",
       " '02': 819,\n",
       " '03': 278,\n",
       " '04': 366,\n",
       " '05': 3527,\n",
       " '06': 6069,\n",
       " '07': 16579,\n",
       " '08': 25301,\n",
       " '09': 24564,\n",
       " '10': 23204,\n",
       " '11': 26381,\n",
       " '12': 34510,\n",
       " '13': 39649,\n",
       " '14': 43640,\n",
       " '15': 48675,\n",
       " '16': 53879,\n",
       " '17': 56779,\n",
       " '18': 54675,\n",
       " '19': 52534,\n",
       " '20': 49438,\n",
       " '21': 46806,\n",
       " '22': 36027,\n",
       " '23': 25582,\n",
       " '00': 16875}"
      ]
     },
     "execution_count": 30,
     "metadata": {},
     "output_type": "execute_result"
    }
   ],
   "source": [
    "kellaajadKinni19Dict = {\"01\":0,\"02\":0,\"03\":0,\"04\":0,\"05\":0,\"06\":0,\"07\":0,\"08\":0,\"09\":0,\"10\":0,\"11\":0,\"12\":0,\"13\":0,\"14\":0,\"15\":0,\"16\":0,\"17\":0,\"18\":0,\"19\":0,\"20\":0,\"21\":0,\"22\":0,\"23\":0,\"00\":0}\n",
    "#data2019.unlockedattime.str[:2]\n",
    "\n",
    "for index, row in data2019.iterrows():\n",
    "    #print(row['unlockedattime'][:2])\n",
    "    kellaajadKinni19Dict[row['lockedattime'][:2]] = kellaajadKinni19Dict[row['lockedattime'][:2]] + 1\n",
    "keysKinni19 = kellaajadKinni19Dict.keys()\n",
    "valuesKinni19 = kellaajadKinni19Dict.values()\n",
    "\n",
    "plt.bar(keysKinni19, valuesKinni19, color=\"red\")"
   ]
  },
  {
   "cell_type": "code",
   "execution_count": 39,
   "metadata": {},
   "outputs": [
    {
     "data": {
      "text/plain": [
       "<BarContainer object of 24 artists>"
      ]
     },
     "execution_count": 39,
     "metadata": {},
     "output_type": "execute_result"
    },
    {
     "data": {
      "image/png": "[encoded data removed]",
      "text/plain": [
       "<Figure size 432x288 with 1 Axes>"
      ]
     },
     "metadata": {
      "needs_background": "light"
     },
     "output_type": "display_data"
    }
   ],
   "source": []
  },
  {
   "cell_type": "code",
   "execution_count": 40,
   "metadata": {},
   "outputs": [
    {
     "data": {
      "text/plain": [
       "<BarContainer object of 24 artists>"
      ]
     },
     "execution_count": 40,
     "metadata": {},
     "output_type": "execute_result"
    },
    {
     "data": {
      "image/png": "[encoded data removed]",
      "text/plain": [
       "<Figure size 432x288 with 1 Axes>"
      ]
     },
     "metadata": {
      "needs_background": "light"
     },
     "output_type": "display_data"
    }
   ],
   "source": []
  },
  {
   "cell_type": "code",
   "execution_count": 43,
   "metadata": {},
   "outputs": [
    {
     "data": {
      "text/plain": [
       "<BarContainer object of 24 artists>"
      ]
     },
     "execution_count": 43,
     "metadata": {},
     "output_type": "execute_result"
    },
    {
     "data": {
      "image/png": "[encoded data removed]",
      "text/plain": [
       "<Figure size 432x288 with 1 Axes>"
      ]
     },
     "metadata": {
      "needs_background": "light"
     },
     "output_type": "display_data"
    }
   ],
   "source": [
    "kellaajadLahti20Dict = {\"01\":0,\"02\":0,\"03\":0,\"04\":0,\"05\":0,\"06\":0,\"07\":0,\"08\":0,\"09\":0,\"10\":0,\"11\":0,\"12\":0,\"13\":0,\"14\":0,\"15\":0,\"16\":0,\"17\":0,\"18\":0,\"19\":0,\"20\":0,\"21\":0,\"22\":0,\"23\":0,\"00\":0}\n",
    "#data2019.unlockedattime.str[:2]\n",
    "\n",
    "for index, row in data2020.iterrows():\n",
    "    #print(row['unlockedattime'][:2])\n",
    "    kellaajadLahti20Dict[row['unlockedattime'][:2]] = kellaajadLahti20Dict[row['unlockedattime'][:2]] + 1\n",
    "\n",
    "keysLahti20 = kellaajadLahti20Dict.keys()\n",
    "valuesLahti20 = kellaajadLahti20Dict.values()\n",
    "\n",
    "plt.bar(keysLahti20, valuesLahti20, color=\"green\")"
   ]
  },
  {
   "cell_type": "code",
   "execution_count": null,
   "metadata": {},
   "outputs": [],
   "source": [
    "kellaajadKinni20Dict = {\"01\":0,\"02\":0,\"03\":0,\"04\":0,\"05\":0,\"06\":0,\"07\":0,\"08\":0,\"09\":0,\"10\":0,\"11\":0,\"12\":0,\"13\":0,\"14\":0,\"15\":0,\"16\":0,\"17\":0,\"18\":0,\"19\":0,\"20\":0,\"21\":0,\"22\":0,\"23\":0,\"00\":0}\n",
    "#data2019.unlockedattime.str[:2]\n",
    "\n",
    "for index, row in data2020.iterrows():\n",
    "    #print(row['unlockedattime'][:2])\n",
    "    kellaajadKinni20Dict[row['lockedattime'][:2]] = kellaajadKinni20Dict[row['lockedattime'][:2]] + 1\n",
    "\n",
    "keysKinni20 = kellaajadKinni20Dict.keys()\n",
    "valuesKinni20 = kellaajadKinni20Dict.values()\n",
    "\n",
    "plt.bar(keysKinni20, valuesKinni20, color=\"green\")"
   ]
  },
  {
   "cell_type": "code",
   "execution_count": 45,
   "metadata": {},
   "outputs": [
    {
     "data": {
      "text/plain": [
       "<BarContainer object of 24 artists>"
      ]
     },
     "execution_count": 45,
     "metadata": {},
     "output_type": "execute_result"
    },
    {
     "data": {
      "image/png": "[encoded data removed]",
      "text/plain": [
       "<Figure size 432x288 with 1 Axes>"
      ]
     },
     "metadata": {
      "needs_background": "light"
     },
     "output_type": "display_data"
    }
   ],
   "source": [
    "kellaajadLahti21Dict = {\"01\":0,\"02\":0,\"03\":0,\"04\":0,\"05\":0,\"06\":0,\"07\":0,\"08\":0,\"09\":0,\"10\":0,\"11\":0,\"12\":0,\"13\":0,\"14\":0,\"15\":0,\"16\":0,\"17\":0,\"18\":0,\"19\":0,\"20\":0,\"21\":0,\"22\":0,\"23\":0,\"00\":0}\n",
    "#data2019.unlockedattime.str[:2]\n",
    "\n",
    "for index, row in data2021.iterrows():\n",
    "    #print(row['unlockedattime'][:2])\n",
    "    kellaajadLahti21Dict[row['unlockedattime'][:2]] = kellaajadLahti21Dict[row['unlockedattime'][:2]] + 1\n",
    "\n",
    "keysLahti21 = kellaajadLahti21Dict.keys()\n",
    "valuesLahti21 = kellaajadLahti21Dict.values()\n",
    "\n",
    "plt.bar(keysLahti21, valuesLahti21)"
   ]
  },
  {
   "cell_type": "code",
   "execution_count": 46,
   "metadata": {},
   "outputs": [
    {
     "data": {
      "text/plain": [
       "<BarContainer object of 24 artists>"
      ]
     },
     "execution_count": 46,
     "metadata": {},
     "output_type": "execute_result"
    },
    {
     "data": {
      "image/png": "[encoded data removed]",
      "text/plain": [
       "<Figure size 432x288 with 1 Axes>"
      ]
     },
     "metadata": {
      "needs_background": "light"
     },
     "output_type": "display_data"
    }
   ],
   "source": [
    "kellaajadKinni21Dict = {\"01\":0,\"02\":0,\"03\":0,\"04\":0,\"05\":0,\"06\":0,\"07\":0,\"08\":0,\"09\":0,\"10\":0,\"11\":0,\"12\":0,\"13\":0,\"14\":0,\"15\":0,\"16\":0,\"17\":0,\"18\":0,\"19\":0,\"20\":0,\"21\":0,\"22\":0,\"23\":0,\"00\":0}\n",
    "#data2019.unlockedattime.str[:2]\n",
    "\n",
    "for index, row in data2021.iterrows():\n",
    "    #print(row['unlockedattime'][:2])\n",
    "    kellaajadKinni21Dict[row['lockedattime'][:2]] = kellaajadKinni21Dict[row['unlockedattime'][:2]] + 1\n",
    "\n",
    "keysKinni21 = kellaajadKinni21Dict.keys()\n",
    "valuesKinni21 = kellaajadKinni21Dict.values()\n",
    "\n",
    "plt.bar(keysKinni21, valuesKinni21, color=\"red\")"
   ]
  },
  {
   "cell_type": "code",
   "execution_count": 41,
   "metadata": {},
   "outputs": [
    {
     "data": {
      "text/html": [
       "<div>\n",
       "<style scoped>\n",
       "    .dataframe tbody tr th:only-of-type {\n",
       "        vertical-align: middle;\n",
       "    }\n",
       "\n",
       "    .dataframe tbody tr th {\n",
       "        vertical-align: top;\n",
       "    }\n",
       "\n",
       "    .dataframe thead th {\n",
       "        text-align: right;\n",
       "    }\n",
       "</style>\n",
       "<table border=\"1\" class=\"dataframe\">\n",
       "  <thead>\n",
       "    <tr style=\"text-align: right;\">\n",
       "      <th></th>\n",
       "      <th>yearOfBirth</th>\n",
       "      <th>first3IdNumber</th>\n",
       "    </tr>\n",
       "  </thead>\n",
       "  <tbody>\n",
       "  </tbody>\n",
       "</table>\n",
       "</div>"
      ],
      "text/plain": [
       "Empty DataFrame\n",
       "Columns: [yearOfBirth, first3IdNumber]\n",
       "Index: []"
      ]
     },
     "execution_count": 41,
     "metadata": {},
     "output_type": "execute_result"
    }
   ],
   "source": [
    "#data2020 = data2020.drop(columns=['startstationserialnumber','endstationserialnumber'])\n",
    "data2020 = data2020.drop(data2020[(data2020.startstationname == '-- Määramata --') | (data2020.endstationname == '-- Määramata --')].index)\n",
    "data2020 = data2020.drop(data2020[(data2020.startstationname == 'Rahu 8') | (data2020.endstationname == 'Rahu 8')].index)\n",
    "data2020 = data2020.drop(data2020[(data2020.startstationname == 'SPARK Demo') | (data2020.endstationname == 'SPARK Demo')].index)\n",
    "data2020 = data2020.drop(data2020[(data2020.startstationname == 'Töökoda') | (data2020.endstationname == 'Töökoda')].index)\n",
    "data2020 = data2020.drop(data2020[(data2020.startstationname == 'Undetermined') | (data2020.endstationname == 'Undetermined')].index)\n",
    "data2020 = data2020.drop(data2020[(data2020.startstationname == 'Ihaste Päev') | (data2020.endstationname == 'Ihaste Päev')].index)\n",
    "data2020 = data2020.drop(data2020[data2020['length'] < 0.05].index)\n",
    "data2020 = data2020.drop(data2020[data2020.length == 0].index)\n",
    "\n",
    "data2020['first3IdNumber'] = data2020['first3IdNumber'].fillna(\"NaN\")\n",
    "# Määra sünniaasta andmetüübiks 'sõne'.\n",
    "data2020['yearOfBirth'] = data2020['yearOfBirth'].astype(str)\n",
    "# Eemalda sünniaasta lõpust '.0'.\n",
    "data2020['yearOfBirth'] = data2020['yearOfBirth'].str[:-2]\n",
    "data2020['yearOfBirth'] = data2020['yearOfBirth'].replace('n', '000')\n",
    "\n",
    "# Eemalda ID-kaardi numbrid, mille pikkus on lühem kui 3.\n",
    "data2020 = data2020.drop(data2020[data2020['first3IdNumber'].str.len() != 3].index)\n",
    "# Eemalda ID-kaardi numbrid, mis ei kuulu massiivi kaardi esimese numbri põhjal.\n",
    "synNr = ['N','1','2','3','4','5','6']\n",
    "data2020 = data2020.drop(data2020[~data2020['first3IdNumber'].str[0].isin(synNr)].index)\n",
    "\n",
    "data2020.loc[((data2020['first3IdNumber'].str[0] == '1') | (data2020['first3IdNumber'].str[0] == '2')),'yearOfBirth'] = ('18' + data2020['first3IdNumber'].str[1:])\n",
    "data2020.loc[((data2020['first3IdNumber'].str[0] == '3') | (data2020['first3IdNumber'].str[0] == '4')),'yearOfBirth'] = ('19' + data2020['first3IdNumber'].str[1:])\n",
    "data2020.loc[((data2020['first3IdNumber'].str[0] == '5') | (data2020['first3IdNumber'].str[0] == '6')),'yearOfBirth'] = ('20' + data2020['first3IdNumber'].str[1:])\n",
    "\n",
    "# Sünniaasta ja ID-kaardi numbrid ei kattu\n",
    "data2020[['yearOfBirth', 'first3IdNumber']].loc[(data2020['yearOfBirth'].str[2:4] != data2020['first3IdNumber'].str[1:]) & ((data2020['yearOfBirth'].str[:3] != '000') & (data2020['first3IdNumber'] != 'NaN'))]\n",
    "# Sünniaasta puudub, ID-kaart olemas\n",
    "#data2020[['yearOfBirth', 'first3IdNumber']].loc[(data2020['yearOfBirth'].str[:3] == '000') & (data2020['first3IdNumber'] != 'NaN')]\n",
    "\n",
    "#data2020[['yearOfBirth', 'first3IdNumber']]\n",
    "#data2020['first3IdNumber'].unique()"
   ]
  },
  {
   "cell_type": "code",
   "execution_count": 5,
   "metadata": {},
   "outputs": [
    {
     "data": {
      "text/html": [
       "<div>\n",
       "<style scoped>\n",
       "    .dataframe tbody tr th:only-of-type {\n",
       "        vertical-align: middle;\n",
       "    }\n",
       "\n",
       "    .dataframe tbody tr th {\n",
       "        vertical-align: top;\n",
       "    }\n",
       "\n",
       "    .dataframe thead th {\n",
       "        text-align: right;\n",
       "    }\n",
       "</style>\n",
       "<table border=\"1\" class=\"dataframe\">\n",
       "  <thead>\n",
       "    <tr style=\"text-align: right;\">\n",
       "      <th></th>\n",
       "      <th>yearOfBirth</th>\n",
       "      <th>first3IdNumber</th>\n",
       "    </tr>\n",
       "  </thead>\n",
       "  <tbody>\n",
       "  </tbody>\n",
       "</table>\n",
       "</div>"
      ],
      "text/plain": [
       "Empty DataFrame\n",
       "Columns: [yearOfBirth, first3IdNumber]\n",
       "Index: []"
      ]
     },
     "execution_count": 5,
     "metadata": {},
     "output_type": "execute_result"
    }
   ],
   "source": [
    "#data2021 = data2021.drop(columns=['startstationserialnumber','endstationserialnumber'])\n",
    "data2021 = data2021.drop(data2021[(data2021.startstationname == 'SPARK Demo') | (data2021.endstationname == 'SPARK Demo')].index)\n",
    "data2021 = data2021.drop(data2021[(data2021.startstationname == '-- Määramata --') | (data2021.endstationname == '-- Määramata --')].index)\n",
    "data2021 = data2021.drop(data2021[(data2021.startstationname == 'Töökoda') | (data2021.endstationname == 'Töökoda')].index)\n",
    "data2021 = data2021.drop(data2021[(data2021.startstationname == 'Undetermined') | (data2021.endstationname == 'Undetermined')].index)\n",
    "data2021 = data2021.drop(data2021[data2021['length'] < 0.05].index)\n",
    "data2021 = data2021.drop(data2021[data2021.length == 0].index)\n",
    "\n",
    "data2021['first3IdNumber'] = data2021['first3IdNumber'].fillna(\"NaN\")\n",
    "# Määra sünniaasta andmetüübiks 'sõne'.\n",
    "data2021['yearOfBirth'] = data2021['yearOfBirth'].astype(str)\n",
    "# Eemalda sünniaasta lõpust '.0'.\n",
    "data2021['yearOfBirth'] = data2021['yearOfBirth'].str[:-2]\n",
    "data2021['yearOfBirth'] = data2021['yearOfBirth'].replace('n', '000')\n",
    "\n",
    "# Eemalda ID-kaardi numbrid, mille pikkus on lühem kui 3.\n",
    "data2021 = data2021.drop(data2021[data2021['first3IdNumber'].str.len() != 3].index)\n",
    "# Eemalda ID-kaardi numbrid, mis ei kuulu massiivi kaardi esimese numbri põhjal.\n",
    "synNr = ['N','1','2','3','4','5','6']\n",
    "data2021 = data2021.drop(data2021[~data2021['first3IdNumber'].str[0].isin(synNr)].index)\n",
    "\n",
    "data2021.loc[((data2021['first3IdNumber'].str[0] == '1') | (data2021['first3IdNumber'].str[0] == '2')),'yearOfBirth'] = ('18' + data2021['first3IdNumber'].str[1:])\n",
    "data2021.loc[((data2021['first3IdNumber'].str[0] == '3') | (data2021['first3IdNumber'].str[0] == '4')),'yearOfBirth'] = ('19' + data2021['first3IdNumber'].str[1:])\n",
    "data2021.loc[((data2021['first3IdNumber'].str[0] == '5') | (data2021['first3IdNumber'].str[0] == '6')),'yearOfBirth'] = ('20' + data2021['first3IdNumber'].str[1:])\n",
    "\n",
    "# Sünniaasta ja ID-kaardi numbrid ei kattu\n",
    "data2021[['yearOfBirth', 'first3IdNumber']].loc[(data2021['yearOfBirth'].str[2:4] != data2021['first3IdNumber'].str[1:]) & ((data2021['yearOfBirth'].str[:3] != '000') & (data2021['first3IdNumber'] != 'NaN'))]\n",
    "# Sünniaasta puudub, ID-kaart olemas\n",
    "#data2021[['yearOfBirth', 'first3IdNumber']].loc[(data2021['yearOfBirth'].str[:3] == '000') & (data2021['first3IdNumber'] != 'NaN')]\n",
    "\n",
    "#data2021[['yearOfBirth', 'first3IdNumber']]\n",
    "#data2021['first3IdNumber'].unique()\n",
    "\n"
   ]
  },
  {
   "cell_type": "code",
   "execution_count": 6,
   "metadata": {},
   "outputs": [
    {
     "data": {
      "text/plain": [
       "{'Uueturu': 3700,\n",
       " 'Soola': 2869,\n",
       " 'Turusild': 2231,\n",
       " 'Vabadussild': 2096,\n",
       " 'Eeden': 1968,\n",
       " 'Annelinna kiir': 1955,\n",
       " 'Annelinna keskus': 1844,\n",
       " 'Raatuse': 1747,\n",
       " 'Pirogovi plats': 1739,\n",
       " 'Tarmeko': 1702,\n",
       " 'Anne saun': 1517,\n",
       " 'Aleksandri': 1475,\n",
       " 'Rahu': 1455,\n",
       " 'Veeriku': 1451,\n",
       " 'Raudteejaam': 1416,\n",
       " 'Annelinn': 1415,\n",
       " 'Sõbra': 1364,\n",
       " 'Pargi': 1286,\n",
       " 'Kalda tee': 1274,\n",
       " 'Kaunase puiestee': 1257,\n",
       " 'Aparaaditehas': 1210,\n",
       " 'Kannikese': 1207,\n",
       " 'Papli': 1205,\n",
       " 'Karete': 1194,\n",
       " 'Delta': 1176,\n",
       " 'Roosi': 1174,\n",
       " 'Vanemuise park': 1165,\n",
       " 'Ülejõe park': 1164,\n",
       " 'Kopli': 1149,\n",
       " 'Raatuse kool': 1105,\n",
       " 'Kuu': 1070,\n",
       " 'Näituse': 1065,\n",
       " 'Rüütli': 1030,\n",
       " 'Põhja puiestee': 1008,\n",
       " 'Sõpruse sild': 999,\n",
       " 'Mõisavahe': 989,\n",
       " 'Magistri': 988,\n",
       " 'Riiamäe': 969,\n",
       " 'Aura veekeskus': 968,\n",
       " 'W. Ostwaldi': 959,\n",
       " 'Lõunakeskus': 941,\n",
       " 'Tähtvere spordipark': 914,\n",
       " 'Põllu': 877,\n",
       " 'K. E. von Baeri': 848,\n",
       " 'Torni': 832,\n",
       " 'ERM': 825,\n",
       " 'Orava': 791,\n",
       " 'Vahi': 729,\n",
       " 'Tamme puiestee': 720,\n",
       " 'TÜ raamatukogu': 709,\n",
       " 'J. Hurda': 700,\n",
       " 'Raja': 674,\n",
       " 'AHHAA': 664,\n",
       " 'Kivilinna': 646,\n",
       " 'Ihaste': 644,\n",
       " 'Maarjamõisa': 632,\n",
       " 'Tamme kool': 625,\n",
       " 'Tamme gümnaasium': 588,\n",
       " 'Sepa turg': 586,\n",
       " 'Annelinna gümnaasium': 574,\n",
       " 'Viie tee rist': 568,\n",
       " 'Kaare': 551,\n",
       " 'Ihaste Coop': 542,\n",
       " 'Tulbi': 529,\n",
       " 'Kaupmehe': 519,\n",
       " 'E-Kaubamaja': 473,\n",
       " 'Ränilinn': 466,\n",
       " 'Postimaja': 465,\n",
       " 'Tamme staadion': 436,\n",
       " 'Pallase': 400,\n",
       " 'EMÜ spordihoone': 400,\n",
       " 'Ringtee': 326,\n",
       " 'Kvissentali': 288,\n",
       " 'Ujula': 273,\n",
       " 'Lossi': 249,\n",
       " 'Märja': 225,\n",
       " 'Hipodroomi': 155,\n",
       " 'Tartu Maja': 153,\n",
       " 'Jakobsoni': 147,\n",
       " 'Tervise': 55,\n",
       " 'Ilmatsalu': 46,\n",
       " 'Rahinge': 24}"
      ]
     },
     "execution_count": 6,
     "metadata": {},
     "output_type": "execute_result"
    }
   ],
   "source": [
    "andmed19end = dict(data2019['endstationname'].value_counts())\n",
    "andmed19sta = dict(data2019['startstationname'].value_counts())\n",
    "\n",
    "andmed21end = dict(data2021['endstationname'].value_counts())\n",
    "andmed21end\n",
    "\n",
    "andmed20end = dict(data2020['endstationname'].value_counts())\n",
    "andmed21end\n",
    "# for i in andmed:\n",
    "#     print(andmed[i])"
   ]
  },
  {
   "cell_type": "code",
   "execution_count": 7,
   "metadata": {},
   "outputs": [],
   "source": [
    "# Faili salvestamine\n",
    "\n",
    "data2019.to_csv('data19cha.csv', index=False)\n",
    "data2020.to_csv('data20cha.csv', index=False)\n",
    "data2021.to_csv('data21cha.csv', index=False)"
   ]
  },
  {
   "cell_type": "code",
   "execution_count": null,
   "metadata": {},
   "outputs": [],
   "source": []
  }
 ],
 "metadata": {
  "kernelspec": {
   "display_name": "Python 3",
   "language": "python",
   "name": "python3"
  },
  "language_info": {
   "codemirror_mode": {
    "name": "ipython",
    "version": 3
   },
   "file_extension": ".py",
   "mimetype": "text/x-python",
   "name": "python",
   "nbconvert_exporter": "python",
   "pygments_lexer": "ipython3",
   "version": "3.8.5"
  }
 },
 "nbformat": 4,
 "nbformat_minor": 4
}
