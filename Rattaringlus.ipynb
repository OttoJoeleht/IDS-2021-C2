{
 "cells": [
  {
   "cell_type": "markdown",
   "metadata": {},
   "source": [
    "# Analysing Tartu Smart Bike usage data 2019-2021"
   ]
  },
  {
   "cell_type": "code",
   "execution_count": 1,
   "metadata": {},
   "outputs": [],
   "source": [
    "import matplotlib.pyplot as plt \n",
    "import numpy as np\n",
    "import pandas as pd"
   ]
  },
  {
   "cell_type": "code",
   "execution_count": 2,
   "metadata": {},
   "outputs": [
    {
     "name": "stdout",
     "output_type": "stream",
     "text": [
      "2019:  (742559, 12)\n",
      "2020:  (874032, 12)\n",
      "2021:  (85004, 12)\n"
     ]
    }
   ],
   "source": [
    "data2019 = pd.read_csv(\"2019.csv\", sep=',', header=0)\n",
    "print(\"2019: \",data2019.shape)\n",
    "data2020 = pd.read_csv(\"2020.csv\", sep=',', header=0)\n",
    "print(\"2020: \",data2020.shape)\n",
    "data2021 = pd.read_csv(\"2021.csv\", sep=',', header=0)\n",
    "print(\"2021: \",data2021.shape)"
   ]
  },
  {
   "cell_type": "code",
   "execution_count": 3,
   "metadata": {},
   "outputs": [
    {
     "data": {
      "text/plain": [
       "cyclenumber                   int64\n",
       "unlockedat                   object\n",
       "unlockedattime               object\n",
       "lockedat                     object\n",
       "lockedattime                 object\n",
       "startstationserialnumber     object\n",
       "startstationname             object\n",
       "endstationserialnumber       object\n",
       "endstationname               object\n",
       "length                      float64\n",
       "yearOfBirth                  object\n",
       "first3IdNumber               object\n",
       "dtype: object"
      ]
     },
     "execution_count": 3,
     "metadata": {},
     "output_type": "execute_result"
    }
   ],
   "source": [
    "#data2019 = data2019.drop(columns=['startstationserialnumber','endstationserialnumber'])\n",
    "data2019 = data2019.drop(data2019[(data2019.startstationname == 'Warehouse') | (data2019.endstationname == 'Warehouse')].index)\n",
    "data2019 = data2019.drop(data2019[(data2019.startstationname == 'Lauluväljak') | (data2019.endstationname == 'Lauluväljak')].index)\n",
    "data2019 = data2019.drop(data2019[(data2019.startstationname == 'SPARK Demo') | (data2019.endstationname == 'SPARK Demo')].index)\n",
    "data2019 = data2019.drop(data2019[(data2019.startstationname == 'Töökoda') | (data2019.endstationname == 'Töökoda')].index)\n",
    "data2019 = data2019.drop(data2019[(data2019.startstationname == \"Tour d'ÖÖ\") | (data2019.endstationname == \"Tour d'ÖÖ\")].index)\n",
    "data2019 = data2019.drop(data2019[(data2019.startstationname == \"-- Määramata --\") | (data2019.endstationname == \"-- Määramata --\")].index)\n",
    "data2019 = data2019.drop(data2019[(data2019.startstationname == \"Metallica parkla\") | (data2019.endstationname == \"Metallica parkla\")].index)\n",
    "data2019 = data2019.drop(data2019[(data2019.startstationname == \"Undetermined\") | (data2019.endstationname == \"Undetermined\")].index)\n",
    "data2019 = data2019.drop(data2019[data2019['length'] < 0.05].index)\n",
    "\n",
    "data2019 = data2019.drop(data2019[data2019.length == 0].index)\n",
    "\n",
    "def fun():\n",
    "    if (first3IdNumber[0] == 3 | first3IdNumber[0] == 4):\n",
    "        data2019['yearOfBirth'] = int('19'+first3IdNumber[1:])\n",
    "    elif(first3IdNumber[0] == 5 | first3IdNumber[0] == 6):\n",
    "        data2019['yearOfBirth'] = int('20'+first3IdNumber[1:])\n",
    "#data2019[['yearOfBirth', 'first3IdNumber']].where(data2019[(data2019['yearOfBirth'][2:] == data2019['first3IdNumber'][1:])], df[['yearOfBirth', 'first3IdNumber']].values)\n",
    "#data2019[['yearOfBirth', 'first3IdNumber']] - vali mitu tulpa korraga\n",
    "data2019['yearOfBirth'] = data2019['yearOfBirth'].fillna(0)\n",
    "data2019['yearOfBirth'] = data2019['yearOfBirth'].astype(str)\n",
    "data2019[['yearOfBirth', 'first3IdNumber']]\n",
    "data2019.dtypes"
   ]
  },
  {
   "cell_type": "code",
   "execution_count": null,
   "metadata": {},
   "outputs": [],
   "source": [
    "#data2020 = data2020.drop(columns=['startstationserialnumber','endstationserialnumber'])\n",
    "data2020 = data2020.drop(data2020[(data2020.startstationname == '-- Määramata --') | (data2020.endstationname == '-- Määramata --')].index)\n",
    "data2020 = data2020.drop(data2020[(data2020.startstationname == 'Rahu 8') | (data2020.endstationname == 'Rahu 8')].index)\n",
    "data2020 = data2020.drop(data2020[(data2020.startstationname == 'SPARK Demo') | (data2020.endstationname == 'SPARK Demo')].index)\n",
    "data2020 = data2020.drop(data2020[(data2020.startstationname == 'Töökoda') | (data2020.endstationname == 'Töökoda')].index)\n",
    "data2020 = data2020.drop(data2020[(data2020.startstationname == 'Undetermined') | (data2020.endstationname == 'Undetermined')].index)\n",
    "data2020 = data2020.drop(data2020[(data2020.startstationname == 'Ihaste Päev') | (data2020.endstationname == 'Ihaste Päev')].index)\n",
    "data2020 = data2020.drop(data2020[data2020['length'] < 0.05].index)\n",
    "data2020 = data2020.drop(data2020[data2020.length == 0].index)\n",
    "\n",
    "\n",
    "data2020"
   ]
  },
  {
   "cell_type": "code",
   "execution_count": null,
   "metadata": {},
   "outputs": [],
   "source": [
    "#data2021 = data2021.drop(columns=['startstationserialnumber','endstationserialnumber'])\n",
    "data2021 = data2021.drop(data2021[(data2021.startstationname == 'SPARK Demo') | (data2021.endstationname == 'SPARK Demo')].index)\n",
    "data2021 = data2021.drop(data2021[(data2021.startstationname == '-- Määramata --') | (data2021.endstationname == '-- Määramata --')].index)\n",
    "data2021 = data2021.drop(data2021[(data2021.startstationname == 'Töökoda') | (data2021.endstationname == 'Töökoda')].index)\n",
    "data2021 = data2021.drop(data2021[(data2021.startstationname == 'Undetermined') | (data2021.endstationname == 'Undetermined')].index)\n",
    "data2021 = data2021.drop(data2021[data2021['length'] < 0.05].index)\n",
    "data2021 = data2021.drop(data2021[data2021.length == 0].index)\n",
    "data2021"
   ]
  },
  {
   "cell_type": "code",
   "execution_count": null,
   "metadata": {},
   "outputs": [],
   "source": [
    "andmed19end = dict(data2019['endstationname'].value_counts())\n",
    "andmed19sta = dict(data2019['startstationname'].value_counts())\n",
    "\n",
    "andmed21end = dict(data2021['endstationname'].value_counts())\n",
    "andmed21end\n",
    "\n",
    "andmed20end = dict(data2020['endstationname'].value_counts())\n",
    "andmed21end\n",
    "# for i in andmed:\n",
    "#     print(andmed[i])"
   ]
  },
  {
   "cell_type": "code",
   "execution_count": null,
   "metadata": {},
   "outputs": [],
   "source": [
    "# Faili salvestamine\n",
    "\n",
    "#data2019.to_csv('data19cha.csv', index=False)\n",
    "#data2020.to_csv('data20cha.csv', index=False)\n",
    "#data2021.to_csv('data21cha.csv', index=False)"
   ]
  },
  {
   "cell_type": "code",
   "execution_count": null,
   "metadata": {},
   "outputs": [],
   "source": []
  }
 ],
 "metadata": {
  "kernelspec": {
   "display_name": "Python 3",
   "language": "python",
   "name": "python3"
  },
  "language_info": {
   "codemirror_mode": {
    "name": "ipython",
    "version": 3
   },
   "file_extension": ".py",
   "mimetype": "text/x-python",
   "name": "python",
   "nbconvert_exporter": "python",
   "pygments_lexer": "ipython3",
   "version": "3.8.5"
  }
 },
 "nbformat": 4,
 "nbformat_minor": 4
}
